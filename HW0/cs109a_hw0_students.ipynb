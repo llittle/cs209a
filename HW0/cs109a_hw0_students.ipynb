{
 "cells": [
  {
   "cell_type": "markdown",
   "metadata": {
    "deletable": false,
    "editable": false
   },
   "source": [
    "# <img style=\"float: left; padding-right: 10px; width: 45px\" src=\"https://raw.githubusercontent.com/Harvard-IACS/2018-CS109A/master/content/styles/iacs.png\"> CS109A Introduction to Data Science \n",
    "\n",
    "## Homework 0: Find the mystery number\n",
    "### <span style='background :yellow' >(UPDATED 08/20/20 @ 6pm EST)</span>\n",
    "\n",
    "**Harvard University**<br/>\n",
    "**Fall 2020**<br/>\n",
    "**Instructors**: Pavlos Protopapas, Kevin Rader, and Chris Tanner\n",
    "\n",
    "\n",
    "<hr style='height:2px'>\n",
    "\n",
    "---"
   ]
  },
  {
   "cell_type": "code",
   "execution_count": null,
   "metadata": {
    "deletable": false,
    "editable": false
   },
   "outputs": [],
   "source": [
    "## RUN THIS CELL TO PROPERLY HIGHLIGHT THE EXERCISES\n",
    "import requests\n",
    "from IPython.core.display import HTML\n",
    "styles = requests.get(\"https://raw.githubusercontent.com/Harvard-IACS/2019-CS109B/master/content/styles/cs109.css\").text\n",
    "HTML(styles)"
   ]
  },
  {
   "cell_type": "markdown",
   "metadata": {
    "deletable": false,
    "editable": false
   },
   "source": [
    "## Welcome to CS109a!\n",
    "\n",
    "This homework is meant to assess your level of comfort with the prerequisites for this class. If you find that the following exercises, either the coding ones or the math ones, are hard for you might want to wait another year before taking CS109a.  Another goal of this homework is for you to set up the necessary programming environment.\n",
    "\n",
    "Also check [Preparing for this course](https://harvard-iacs.github.io/2020-CS109A/pages/preparation.html) for more details on how to better prepare yourself for CS1009A. \n",
    "\n",
    "In this homework, you are looking for a mystery number! It will be calculated by starting with a value of 0 and adding the results of calculations as you go along.\n",
    "\n"
   ]
  },
  {
   "cell_type": "code",
   "execution_count": null,
   "metadata": {
    "deletable": false,
    "editable": false
   },
   "outputs": [],
   "source": [
    "# initialize mystery \n",
    "mystery = 0"
   ]
  },
  {
   "cell_type": "markdown",
   "metadata": {
    "deletable": false,
    "editable": false
   },
   "source": [
    "<div class='exercise'> <b> Exercise 1: Python </b></div>\n",
    "\n",
    "Solid programming experience, not necessarily in Python, is a prerequisite for this class. There will not be enough time to learn programming as well as the content of this class once the semester starts. Students who have attempted such reported feeling overwhelmed, and it can drastically affect your pleasure in learning the core concepts of the course. If you have programming experience, but not with Python, you will need to pick up the basics of Python on your own before the start of the semester. \n",
    "\n",
    "#### One good starting point is the classic [Python Tutorial](https://docs.python.org/3/tutorial/).\n",
    "\n",
    "### 1.1 Accessing the class material\n",
    "\n",
    "All class material, except homework, will be in the class GitHub repository. Clone this repository and then copy the contents in a different directory so you can make changes.\n",
    "\n",
    "* Open the Terminal in your computer and go to the directory where you want to clone the repo. Then run \n",
    "```\n",
    "git clone https://github.com/Harvard-IACS/2020-CS109A.git`\n",
    "```\n",
    "* If you have already cloned the repo, go inside the '2020-CS109A/' directory and run \n",
    "```\n",
    "git pull\n",
    "```\n",
    "\n",
    "* If you change the notebooks and then run ```git pull``` you will get a \"merge conflict\" error and the pull will fail.\n",
    "\n",
    "One way to deal with this is to create a `playground/` folder and copy the folder with the notebook with which you want to work there.\n",
    "\n",
    "A quick tutorial in git can be found [here](https://github.com/NREL/SAM/wiki/Basic-git-tutorial)."
   ]
  },
  {
   "cell_type": "markdown",
   "metadata": {
    "deletable": false,
    "editable": false
   },
   "source": [
    "### 1.2 Virtual environments and `.yml` files.\n",
    "\n",
    "Before you do any installation, **create a virtual environment.** We cannot stress this enough!\n",
    " \n",
    "Isolating your projects inside specific environments helps you manage software dependencies, allowing you to have different versions of packages in each environment. This is way easier than having to make sure all installed packages are compatable across all your projects. This way you can recover from serious mess-ups by deleting an environment and not having to worry about how it affects your entire system.\n",
    " \n",
    "The two most popular tools for setting up environments are:\n",
    "\n",
    "- `conda` (a package and environment manager) \n",
    "- `pip` (a Python package manager) with `virtualenv` (a tool for creating environments)\n",
    "\n",
    "We recommend using `conda` package installation and environments. `conda` installs packages from the Anaconda Repository and Anaconda Cloud, whereas `pip` installs packages from PyPI. Even if you are using `conda` as your primary package installer and are inside a `conda` environment, you can still use `pip install` for those rare packages that are not included in the `conda` ecosystem. \n",
    "\n",
    "See here for more details on how to manage [Conda Environments](https://docs.conda.io/projects/conda/en/latest/user-guide/tasks/manage-environments.html).\n",
    "\n",
    "#### What is a `.yml` file? \n",
    "\n",
    "It's a file that lists all the necessary libraries we will need in this class bundled together. See exercise below on how to create an environment using a `.yml` file."
   ]
  },
  {
   "cell_type": "markdown",
   "metadata": {
    "deletable": false,
    "editable": false
   },
   "source": [
    "### 1.3  Getting started!\n",
    "\n",
    "In 1.1, you should have cloned the 2020-CS109A git repository in your local machine.\n",
    "\n",
    "Now, let's use the cs109a.yml file to create a virtual enviroment:</div>\n",
    "\n",
    "``` \n",
    "$ cd /2020-CS109A/content/HW0/\n",
    "$ conda env create -f cs109a.yml\n",
    "$ conda activate cs109a\n",
    "```   \n",
    "The `cs109a.yml` file includes all the packages that you will need for the course. It should be in the same directory as this notebook. "
   ]
  },
  {
   "cell_type": "markdown",
   "metadata": {
    "deletable": false,
    "editable": false
   },
   "source": [
    "### 1.4  Importing and checking for all the necessary libraries: \n",
    "\n",
    "#### Besides being open source, Python is very flexible and many highly specialized libraries have been written for it (which you can import and use):\n",
    "\n",
    "- One such library is **numpy**: [https://numpy.org](https://numpy.org). We will cover it in class but you are encouraged to look at the documentation to learn the basics. \n",
    "\n",
    "- Another very important library is **matplotlib**: [https://matplotlib.org](https://matplotlib.org), and its sister `seaborn`: [https://seaborn.pydata.org](https://seaborn.pydata.org). \n",
    "\n",
    "- We will be using Jupyter notebooks: [https://jupyter.org](https://jupyter.org). Jupyter notebooks can be nicelly used within the JupyterLab environment (for more details see link provided).\n",
    "\n",
    "- Data wrangling: **pandas**: https://pandas.pydata.org\n",
    "\n",
    "- Machine learning algorithms: **sklearn** - [https://scikit-learn.org/stable/](https://scikit-learn.org/stable/)\n",
    "\n",
    "- Scientific formulas: **scipy** - [https://www.scipy.org](https://www.scipy.org)\n",
    "\n",
    "- Packages for statistical analysis: **statsmodels** - [https://www.statsmodels.org/](https://www.statsmodels.org/)<br>\n",
    " statsmodels examples: https://www.statsmodels.org/stable/examples/index.html#regression<BR>\n",
    "\n",
    "For the neural networks part of the course, we will use TensorFlow and Keras\n",
    "\n",
    "- TensorFlow (https://www.tensorflow.org) is a framework for representing complicated ML algorithms and executing them in any platform, from a phone to a distributed system using GPUs. Developed by Google Brain, TensorFlow is used very broadly today. \n",
    "\n",
    "- Keras (https://keras.io/) is a high-level API used for fast prototyping, advanced research, and production. We will use `tf.keras` which is TensorFlow's implementation of the `keras` API.\n",
    "\n",
    "\n",
    "**Note**: The `.yml` file we provided you can install all these libraries for you."
   ]
  },
  {
   "cell_type": "markdown",
   "metadata": {
    "deletable": false,
    "editable": false
   },
   "source": [
    "<div class='exercise'> <b> Exercise 2:  Run the following five cells of code: </b></div> "
   ]
  },
  {
   "cell_type": "code",
   "execution_count": null,
   "metadata": {
    "deletable": false,
    "editable": false
   },
   "outputs": [],
   "source": [
    "# See the \"import ... as ...\" contructs below: \n",
    "# they're aliases/shortcuts for the package names. As a result, \n",
    "# we can call methods such as plt.plot() instead of matplotlib.pyplot.plot()\n",
    "\n",
    "import random\n",
    "import numpy as np\n",
    "import scipy as sp\n",
    "import pandas as pd\n",
    "import scipy.stats\n",
    "import matplotlib.pyplot as plt\n",
    "\n",
    "# The line starting with % is a jupyter \"magic\" command, \n",
    "# and is not part of the Python language.\n",
    "# In this case we're just telling the plotting library to draw things on\n",
    "# the notebook, instead of on a separate window.\n",
    "\n",
    "%matplotlib inline"
   ]
  },
  {
   "cell_type": "code",
   "execution_count": null,
   "metadata": {
    "deletable": false,
    "editable": false
   },
   "outputs": [],
   "source": [
    "from sklearn import datasets\n",
    "iris = datasets.load_iris()\n",
    "digits = datasets.load_digits()"
   ]
  },
  {
   "cell_type": "code",
   "execution_count": null,
   "metadata": {
    "deletable": false,
    "editable": false
   },
   "outputs": [],
   "source": [
    "# update mystery\n",
    "mystery = mystery + digits.target[2]"
   ]
  },
  {
   "cell_type": "code",
   "execution_count": null,
   "metadata": {
    "deletable": false,
    "editable": false
   },
   "outputs": [],
   "source": [
    "from scipy import misc\n",
    "\n",
    "face = misc.face()\n",
    "plt.imshow(face)\n",
    "plt.show() # you should see a racoon"
   ]
  },
  {
   "cell_type": "code",
   "execution_count": null,
   "metadata": {
    "deletable": false,
    "editable": false
   },
   "outputs": [],
   "source": [
    "# update mystery\n",
    "mystery = mystery + face[3][880][0]\n",
    "mystery"
   ]
  },
  {
   "cell_type": "code",
   "execution_count": null,
   "metadata": {
    "deletable": false,
    "editable": false
   },
   "outputs": [],
   "source": [
    "import statsmodels.api as sm\n",
    "import statsmodels.formula.api as smf\n",
    "\n",
    "# Load data\n",
    "dat = sm.datasets.get_rdataset(\"Guerry\", \"HistData\").data\n",
    "\n",
    "# update mystery\n",
    "mystery = mystery + int(dat.Literacy.iloc[1]/50)\n",
    "print(mystery)\n",
    "\n",
    "dat.head()"
   ]
  },
  {
   "cell_type": "code",
   "execution_count": null,
   "metadata": {
    "deletable": false,
    "editable": false
   },
   "outputs": [],
   "source": [
    "from __future__ import absolute_import, division, print_function, unicode_literals\n",
    "\n",
    "# TensorFlow and tf.keras\n",
    "import tensorflow as tf\n",
    "from tensorflow.keras import layers\n",
    "from tensorflow.keras import models\n",
    "from tensorflow.keras.layers import Dense\n",
    "from tensorflow.keras.models import Sequential\n",
    "from tensorflow.keras.regularizers import l2\n",
    "\n",
    "tf.keras.backend.clear_session()  # For easy reset of notebook state.\n",
    "\n",
    "print(tf.__version__)  # You should see a >2.0.0 here!\n",
    "print(tf.keras.__version__)\n",
    "\n",
    "mystery = mystery +  int(str(tf.keras.__version__).split(\".\")[0])\n",
    "mystery"
   ]
  },
  {
   "cell_type": "markdown",
   "metadata": {
    "deletable": false,
    "editable": false
   },
   "source": [
    "<div class='exercise'> <b> Exercise 3:  Let's write some Python code! </b></div>\n",
    "\n",
    "**3.1**: Write a function to calculate the first `num` Fibonacci Numbers (`num` will be an integer), and put them in a list. Then **run** your function to create the list for `num=50`. Use `assert` to check if the `num` passed in the argument of the function is an integer and throw an error if it's not. \n",
    "\n",
    "**Note:** we encourage you to write this from scratch. Create a Python list with the first 2 Fibonacci Numbers by hardcoding them: [0, 1], and then append the rest of the elements of the list by using the previous too.\n",
    "    \n",
    "You **may not** use `numpy`; use Python lists.\n"
   ]
  },
  {
   "cell_type": "code",
   "execution_count": null,
   "metadata": {
    "deletable": false
   },
   "outputs": [],
   "source": [
    "def fib(num):\n",
    "    \"\"\"(This is called a docstring, contains info about the function)\n",
    "       This function calculates the first `num` numbers in the \n",
    "       Fibonacci sequence.\n",
    "       ----\n",
    "       Arguments: the number of numbers to create\n",
    "       ----\n",
    "       Returns: a list containing those numbers\n",
    "    \"\"\"\n",
    "    assert (type(num) is int), \"num must be an integer!\"\n",
    "    \n",
    "    fib_list = [0,1]\n",
    "    i = 0\n",
    "    while i <= num:\n",
    "        fib_list.append(fib_list[i]+fib_list[i+1])\n",
    "        i+=1\n",
    "    \n",
    "    \n",
    "    return fib_list"
   ]
  },
  {
   "cell_type": "markdown",
   "metadata": {
    "deletable": false,
    "editable": false
   },
   "source": [
    "**3.2**: Generate the first 50 Fibonacci numbers and name it `fibonaccis`."
   ]
  },
  {
   "cell_type": "code",
   "execution_count": null,
   "metadata": {
    "deletable": false
   },
   "outputs": [],
   "source": [
    "fibonaccis = fib(50)\n"
   ]
  },
  {
   "cell_type": "markdown",
   "metadata": {
    "deletable": false,
    "editable": false
   },
   "source": [
    "**3.3**: Using [list slicing](https://docs.python.org/3/tutorial/introduction.html#lists), reverse the list."
   ]
  },
  {
   "cell_type": "code",
   "execution_count": null,
   "metadata": {
    "deletable": false
   },
   "outputs": [],
   "source": [
    "fibonaccis = fibonaccis[::-1]"
   ]
  },
  {
   "cell_type": "markdown",
   "metadata": {
    "deletable": false,
    "editable": false
   },
   "source": [
    "**3.4**: Python lists: write code to add the $45^{th}$ element to the mystery number"
   ]
  },
  {
   "cell_type": "code",
   "execution_count": null,
   "metadata": {
    "deletable": false
   },
   "outputs": [],
   "source": [
    "mystery = mystery + fibonaccis[45]"
   ]
  },
  {
   "cell_type": "markdown",
   "metadata": {
    "deletable": false,
    "editable": false
   },
   "source": [
    "**3.5**: Check to see if the number 34 is within your `fibonacci` list. If 34 is within your `fibonacci` list, add 1 to the `mystery` number (1 represents True). If 34 isn't within the list, do not add anything to the mystery number."
   ]
  },
  {
   "cell_type": "code",
   "execution_count": null,
   "metadata": {
    "deletable": false
   },
   "outputs": [],
   "source": [
    "if 34 in fibonaccis:\n",
    "    mystery += 1"
   ]
  },
  {
   "cell_type": "markdown",
   "metadata": {
    "deletable": false,
    "editable": false
   },
   "source": [
    "**3.6:** Fill in the `.sample()` input parameters below to generate 10,000 random numbers in [1, 1,000,000)."
   ]
  },
  {
   "cell_type": "code",
   "execution_count": null,
   "metadata": {
    "deletable": false
   },
   "outputs": [],
   "source": [
    "random.seed(a=13, version=2)\n",
    "random_numbers = random.sample(range(1,1000000), 10000) # your code within the ( ) "
   ]
  },
  {
   "cell_type": "markdown",
   "metadata": {
    "deletable": false,
    "editable": false
   },
   "source": [
    "**3.7:** Add to the `mystery` number the first digit of the first item in `random_numbers`. For example, if the first item in `random_numbers` is 982, then add 9 to the mystery number."
   ]
  },
  {
   "cell_type": "code",
   "execution_count": null,
   "metadata": {
    "deletable": false,
    "editable": false
   },
   "outputs": [],
   "source": [
    "print(str(random_numbers[0]))\n",
    "mystery = mystery + int(str(random_numbers[0])[0])\n",
    "mystery"
   ]
  },
  {
   "cell_type": "markdown",
   "metadata": {
    "deletable": false,
    "editable": false
   },
   "source": [
    "Writing tons of code in a linear fashion can only get you so far. Functions are incredibly useful, as they help us modularize, organize, and reuse pieces of our code. It's important to understand how functions work and the scope of each variable. For example, in the function below, `func()`, we demonstrate that the function has its own local scope. That is, `func()` has its own variable called `num`, which is independent from the `num` that exists outside of the function."
   ]
  },
  {
   "cell_type": "code",
   "execution_count": null,
   "metadata": {
    "deletable": false,
    "editable": false
   },
   "outputs": [],
   "source": [
    "def func(num: int):\n",
    "    num = num*2\n",
    "    \n",
    "num = 3\n",
    "func(num)\n",
    "print(num)"
   ]
  },
  {
   "cell_type": "markdown",
   "metadata": {
    "deletable": false,
    "editable": false
   },
   "source": [
    "However, functions can also return values, which allow code outside of functions to use said values."
   ]
  },
  {
   "cell_type": "code",
   "execution_count": null,
   "metadata": {
    "deletable": false,
    "editable": false
   },
   "outputs": [],
   "source": [
    "def func2(num: int):\n",
    "    num = num*2\n",
    "    return num\n",
    "\n",
    "num = 3\n",
    "num = func2(num)\n",
    "print(num)"
   ]
  },
  {
   "cell_type": "markdown",
   "metadata": {
    "deletable": false,
    "editable": false
   },
   "source": [
    "**3.8**:  Write a function `pair_exists()` that takes two items as input:\n",
    "- `nums`: a list (or other data structure)\n",
    "- `target`: an integer\n",
    "\n",
    "The function should return **True** if any two numbers within `nums` sum up to `target`. Otherwise, return **False**. Note, you are not restricted to using a list (e.g., could use a Set or Hash/Dictionary structure). Think about the tradeoffs of transforming `random_numbers` to other data structures."
   ]
  },
  {
   "cell_type": "code",
   "execution_count": null,
   "metadata": {
    "deletable": false
   },
   "outputs": [],
   "source": [
    "def pair_exists(nums, target, verbose = False):\n",
    "    first_num = 0\n",
    "    second_num = 1\n",
    "    \n",
    "    while first_num < len(nums)-1:\n",
    "        \n",
    "        while second_num < len(nums):\n",
    "            \n",
    "            if nums[first_num]+nums[second_num] == target:\n",
    "                if verbose:\n",
    "                    print('1st index: ' + str(first_num))\n",
    "                    print('1st number: ' + str(nums[first_num]))\n",
    "                    print('2nd number: ' + str(nums[second_num]))\n",
    "                    print('2nd index: ' + str(second_num))\n",
    "                    print('sum: ' + str(nums[first_num]+nums[second_num]))\n",
    "\n",
    "                return(True)\n",
    "            \n",
    "            \n",
    "            second_num += 1\n",
    "            \n",
    "        first_num += 1\n",
    "        second_num=1+first_num\n",
    "\n",
    "    \n",
    "    return(False)\n",
    "\n"
   ]
  },
  {
   "cell_type": "code",
   "execution_count": null,
   "metadata": {
    "deletable": false,
    "editable": false
   },
   "outputs": [],
   "source": [
    "print(pair_exists(random_numbers, 38109)) # SHOULD RETURN TRUE\n",
    "print(pair_exists(random_numbers, 13538)) # SHOULD RETURN FALSE"
   ]
  },
  {
   "cell_type": "code",
   "execution_count": null,
   "metadata": {},
   "outputs": [],
   "source": [
    "print(pair_exists(random_numbers, 13538, verbose = True))"
   ]
  },
  {
   "cell_type": "markdown",
   "metadata": {
    "deletable": false,
    "editable": false
   },
   "source": [
    "Generate 10 random numbers in [0, 1000000) using the code below: \n"
   ]
  },
  {
   "cell_type": "code",
   "execution_count": null,
   "metadata": {
    "deletable": false,
    "editable": false
   },
   "outputs": [],
   "source": [
    "random.seed(a=12, version=2)\n",
    "target_numbers = random.sample(range(100000), k=10)\n",
    "num_found = 0"
   ]
  },
  {
   "cell_type": "markdown",
   "metadata": {
    "deletable": false,
    "editable": false
   },
   "source": [
    "**3.9**: Write code that executes your `pair_exists()` function, once for each number within the `target_numbers` list. How many of these values return **True**? Add this to the mystery number (e.g., if 5 of the numbers cause `pair_exists()` to return True, then add 5 to the mystery number)."
   ]
  },
  {
   "cell_type": "code",
   "execution_count": null,
   "metadata": {
    "deletable": false
   },
   "outputs": [],
   "source": [
    "for number in target_numbers:\n",
    "    num_found += pair_exists(random_numbers, number)"
   ]
  },
  {
   "cell_type": "markdown",
   "metadata": {
    "deletable": false,
    "editable": false
   },
   "source": [
    "Dictionaries in Python (generally referred to as HashMaps) are the most powerful, commonly-used data structure, as they allow for non-flat structure and incredibly fast access time. They consist of key-value pairs. You should feel comfortable using a dictionary in Python. \n",
    "\n",
    "As an example, generations within the western world are typically defined as follows:\n",
    "\n",
    "- Lost Generation: 1883-1900\n",
    "- Greatest Generation: 1901-1927\n",
    "- Silent Generation: 1928 - 1945\n",
    "- Baby Boomers: 1946-1964\n",
    "- Generation X: 1965-1980\n",
    "- Millennials: 1981-1996\n",
    "- Generation Z: 1997-2012"
   ]
  },
  {
   "cell_type": "markdown",
   "metadata": {
    "deletable": false,
    "editable": false
   },
   "source": [
    "\n",
    "**3.10** Create a dictionary named `generations` where the keys are the generation names (e.g., 'Silent Generation') and the values are *starting years* for each generation. For example, one key-value pair would be: `{'Silent Generation' : 1928}`"
   ]
  },
  {
   "cell_type": "code",
   "execution_count": null,
   "metadata": {
    "deletable": false
   },
   "outputs": [],
   "source": [
    "generations = {'Lost Generation': 1883,\n",
    "'Greatest Generation': 1901,\n",
    "'Silent Generation': 1928,\n",
    "'Baby Boomers': 1946,\n",
    "'Generation X': 1965,\n",
    "'Millennials': 1981,\n",
    "'Generation Z': 1997}"
   ]
  },
  {
   "cell_type": "code",
   "execution_count": null,
   "metadata": {
    "deletable": false,
    "editable": false
   },
   "outputs": [],
   "source": [
    "mystery = mystery + int(generations['Baby Boomers'])/973\n",
    "mystery"
   ]
  },
  {
   "cell_type": "markdown",
   "metadata": {
    "deletable": false,
    "editable": false
   },
   "source": [
    "Below, `possible_gens` contains several items. "
   ]
  },
  {
   "cell_type": "code",
   "execution_count": null,
   "metadata": {
    "deletable": false,
    "editable": false
   },
   "outputs": [],
   "source": [
    "possible_gens = [ 'The Lost Generation', 'Zoomers', 'Generation X', 'Generation Y',\n",
    "                 'Fitbiters',  'Clickbaiters','Zipliners', 'Lipliners',\n",
    "                 'Ghostbusters', 'MythBusters', 'Smack Talkers', 'Snack Eaters',\n",
    "                 'Aarvarks', 'Baby Boomers', 'Silent Wavers', 'Earth Shakers',\n",
    "                 'Ground Breakers', 'The Greatest Generation', 'Silent Generation',\n",
    "                 'Salsa Dancers', 'Horse Riders', 'Millennials', 'Castle Dwellers',\n",
    "                 'Chain Smokers', 'Rain Makers', 'Generation Jay Z', 'Sun Bathers']\n"
   ]
  },
  {
   "cell_type": "markdown",
   "metadata": {
    "deletable": false
   },
   "source": [
    "**3.11**:  Write some code that adds 1 to `mystery` for each `possible_gens` item that is also a key within the `generations` dictionary. For example, if 2 of those items (e.g., Zoomers and Babies) are both keys in `generations`, then add 2 to the mystery number."
   ]
  },
  {
   "cell_type": "code",
   "execution_count": null,
   "metadata": {
    "deletable": false
   },
   "outputs": [],
   "source": [
    "for name in possible_gens:\n",
    "    mystery += name in generations.keys()"
   ]
  },
  {
   "cell_type": "markdown",
   "metadata": {
    "deletable": false,
    "editable": false
   },
   "source": [
    "<div class='exercise'> <b> Exercise 4: Matrix Operations</b></div>\n",
    "    \n",
    "Complete the following matrix operations by hand (show your work as a markdown/latex notebook cell)."
   ]
  },
  {
   "cell_type": "markdown",
   "metadata": {
    "deletable": false,
    "editable": false
   },
   "source": [
    "**4.1.** Let $ A =  \\left( \\begin{array}{ccc}\n",
    "3 & 4 & 2 \\\\\n",
    "5 & 6 & 4 \\\\\n",
    "4 & 3 & 4 \\end{array} \\right) \\,\\,$ and  $ \\,\\, B = \\left( \\begin{array}{ccc}\n",
    "1 & 4 & 2 \\\\\n",
    "1 & 9 & 3 \\\\\n",
    "2 & 3 & 3 \\end{array} \\right)\n",
    "$\n",
    "\n",
    "Compute $C=A \\cdot B$ and add the `C[0,2]` value to `mystery`. "
   ]
  },
  {
   "cell_type": "markdown",
   "metadata": {
    "deletable": false
   },
   "source": [
    "C[0,2] = 3 * 2 + 2 * 4 + 2 * 3\n",
    "\n",
    "C[0,2] = 6+8+6\n",
    "\n",
    "C[0,2] = 20 \n",
    "\n",
    "etc.\n",
    "\n",
    "Whole matirx is\n",
    "\n",
    "$ \\,\\, C = \\left( \\begin{array}{ccc}\n",
    "3+4+4 & 12+36+6 & 6+12+6\\\\\n",
    "5+6+8 & 20+54+12 & 10+18+12\\\\\n",
    "4+3+8 & 16+27+12 & 8+9+12\\end{array} \\right)\n",
    "$ \n",
    "\n",
    "$ \\,\\, C = \\left( \\begin{array}{ccc}\n",
    "11 & 54 & 24\\\\\n",
    "19 & 86 & 40\\\\\n",
    "15 & 55 & 29\\end{array} \\right)\n",
    "$ "
   ]
  },
  {
   "cell_type": "code",
   "execution_count": null,
   "metadata": {
    "deletable": false
   },
   "outputs": [],
   "source": [
    "A = np.array([[3,4,2], [5,6,4], [4,3,4]])\n",
    "B = np.array([[1,4,2], [1,9,3], [2,3,3]])\n",
    "C = A.dot(B)\n",
    "mystery = mystery + C[0,2]\n",
    "mystery "
   ]
  },
  {
   "cell_type": "markdown",
   "metadata": {
    "deletable": false,
    "editable": false
   },
   "source": [
    "**4.2.** Let\n",
    "$$ A =  \\left( \\begin{array}{ccc}\n",
    "0 & 12 & 8 \\\\\n",
    "1 & 15 & 0 \\\\\n",
    "0 & 6 & 3 \\end{array} \\right)$$  \n",
    "\n",
    "Compute $C = A^{-1}$ and add the value of `C[1,1]` to `mystery`. "
   ]
  },
  {
   "cell_type": "markdown",
   "metadata": {
    "deletable": false
   },
   "source": [
    "Used linear row reduction:\n",
    "$$ C =  \\left( \\begin{array}{ccc|ccc}\n",
    "    0 & 12 & 8  & 1 & 0 & 0\\\\\n",
    "    1 & 15 & 0 & 0 & 1 & 0 \\\\\n",
    "        0 & 6 & 3 &0 & 0 & 1\\end{array} \\right)$$  \n",
    "        \n",
    "First reduce the top row\n",
    "$$ C =  \\left( \\begin{array}{ccc|ccc}\n",
    "0 & 0 & 1 & 0.5 & 0 & -1 \\\\\n",
    "1 & 15 & 0 & 0 & 1 & 0 \\\\\n",
    "0 & 6 & 3 & 0 & 0 & 1\\end{array} \\right)$$  \n",
    "\n",
    "Next the bottom row\n",
    "$$ C =  \\left( \\begin{array}{ccc|ccc}\n",
    "0 & 0 & 1 & 0.5 & 0 & -1 \\\\\n",
    "1 & 15 & 0 & 0 & 1 & 0 \\\\\n",
    "0 & 1 & 0 & -0.25 & 0 & 0.67\\end{array} \\right)$$  \n",
    "\n",
    "Then the middle row\n",
    "$$ C =  \\left( \\begin{array}{ccc|ccc}\n",
    "0 & 0 & 1 & 0.5 & 0 & -1 \\\\\n",
    "1 & 0 & 0 & 3.75 & 1 & -10 \\\\\n",
    "0 & 1 & 0 & -0.25 & 0 & 0.67\\end{array} \\right)$$  \n",
    "\n",
    "Then put everything in the right order\n",
    "$$ C =  \\left( \\begin{array}{ccc|ccc}\n",
    "1 & 0 & 0 & 3.75 & 1 & -10 \\\\\n",
    "0 & 1 & 0 & -0.25 & 0 & 0.67 \\\\\n",
    "0 & 0 & 1 & 0.5 & 0 & -1 \\end{array} \\right)$$  "
   ]
  },
  {
   "cell_type": "code",
   "execution_count": null,
   "metadata": {
    "deletable": false
   },
   "outputs": [],
   "source": [
    "A = np.array([[0,12,8],[1,15,0],[0,6,3]])\n",
    "C = np.linalg.inv(A)\n",
    "mystery = mystery + C[1,1]"
   ]
  },
  {
   "cell_type": "markdown",
   "metadata": {
    "deletable": false,
    "editable": false
   },
   "source": [
    "<div class='exercise'> <b> Exercise 5: Basic Statistics </b></div>\n",
    "\n",
    "**37** of the **76** freshman CS concentrators in University of X have taken CS109a while **50** of the **133** sophomore concentrators haven taken CS109a.  \n",
    "\n",
    "Use the $z$-test for 2 proportions to determine if interest in Data Science (measured as wanting to take CS109a) is related to the two groups.  \n",
    "\n",
    "$$z = \\frac{\\hat{p}_1-\\hat{p}_2}{\\sqrt{\\hat{p}_{pooled}(1-\\hat{p}_{pooled})\\left(\\frac{1}{n_1}+\\frac{1}{n_2}\\right)}}$$\n",
    "\n",
    "Where $n_1, n_2$ are the total population for each year. $\\hat{p}_1$ is the ratio of freshmen CS concentrators to the the total number of freshmen.  $\\hat{p}_2$ is this ratio but for sophomores students. $p_{pooled}$ is the ratio of all CS concentrators to all students.\n",
    "\n",
    "\n",
    "    \n",
    "Add the result into variable `z`."
   ]
  },
  {
   "cell_type": "code",
   "execution_count": null,
   "metadata": {
    "deletable": false
   },
   "outputs": [],
   "source": [
    "n1 = 76\n",
    "n2 = 133\n",
    "p1 = 37/n1\n",
    "p2 = 50/n2\n",
    "p_p = (37+50)/(n1+n2) \n",
    "z = (p1-p2)/np.sqrt(p_p*(1-p_p)*(1/n1 + 1/n2))"
   ]
  },
  {
   "cell_type": "code",
   "execution_count": null,
   "metadata": {
    "deletable": false,
    "editable": false
   },
   "outputs": [],
   "source": [
    "# update mystery\n",
    "mystery -= 16*int(z)"
   ]
  },
  {
   "cell_type": "markdown",
   "metadata": {
    "deletable": false,
    "editable": false
   },
   "source": [
    "### And the Mystery Number is:"
   ]
  },
  {
   "cell_type": "code",
   "execution_count": null,
   "metadata": {
    "deletable": false,
    "editable": false
   },
   "outputs": [],
   "source": [
    "print(f'Mystery number is: {mystery} !!')"
   ]
  }
 ],
 "metadata": {
  "language_info": {
   "name": "python",
   "pygments_lexer": "ipython3"
  }
 },
 "nbformat": 4,
 "nbformat_minor": 4
}
