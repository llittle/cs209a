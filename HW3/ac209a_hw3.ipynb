{
 "cells": [
  {
   "cell_type": "markdown",
   "metadata": {
    "deletable": false,
    "editable": false
   },
   "source": [
    "# <img style=\"float: left; padding-right: 10px; width: 45px\" src=\"https://raw.githubusercontent.com/Harvard-IACS/2018-CS109A/master/content/styles/iacs.png\"> CS109A Introduction to Data Science: \n",
    "\n",
    "## Homework 3  AC 209 : Linear Algebra, Accuracy, and Confidence Intervals\n",
    "\n",
    "\n",
    "**Harvard University**<br/>\n",
    "**Fall 2020**<br/>\n",
    "**Instructors**: Pavlos Protopapas, Kevin Rader, and Chris Tanner\n",
    "\n",
    "<hr style=\"height:2pt\">\n"
   ]
  },
  {
   "cell_type": "code",
   "execution_count": 1,
   "metadata": {
    "deletable": false,
    "editable": false
   },
   "outputs": [
    {
     "data": {
      "text/html": [
       "<style>\n",
       "blockquote { background: #AEDE94; }\n",
       "h1 { \n",
       "    padding-top: 25px;\n",
       "    padding-bottom: 25px;\n",
       "    text-align: left; \n",
       "    padding-left: 10px;\n",
       "    background-color: #DDDDDD; \n",
       "    color: black;\n",
       "}\n",
       "h2 { \n",
       "    padding-top: 10px;\n",
       "    padding-bottom: 10px;\n",
       "    text-align: left; \n",
       "    padding-left: 5px;\n",
       "    background-color: #EEEEEE; \n",
       "    color: black;\n",
       "}\n",
       "\n",
       "div.exercise {\n",
       "\tbackground-color: #ffcccc;\n",
       "\tborder-color: #E9967A; \t\n",
       "\tborder-left: 5px solid #800080; \n",
       "\tpadding: 0.5em;\n",
       "}\n",
       "\n",
       "div.exercise-r {\n",
       "\tbackground-color: #fce8e8;\n",
       "\tborder-color: #E9967A; \t\n",
       "\tborder-left: 5px solid #800080; \n",
       "\tpadding: 0.5em;\n",
       "}\n",
       "\n",
       "\n",
       "span.sub-q {\n",
       "\tfont-weight: bold;\n",
       "}\n",
       "div.theme {\n",
       "\tbackground-color: #DDDDDD;\n",
       "\tborder-color: #E9967A; \t\n",
       "\tborder-left: 5px solid #800080; \n",
       "\tpadding: 0.5em;\n",
       "\tfont-size: 18pt;\n",
       "}\n",
       "div.gc { \n",
       "\tbackground-color: #AEDE94;\n",
       "\tborder-color: #E9967A; \t \n",
       "\tborder-left: 5px solid #800080; \n",
       "\tpadding: 0.5em;\n",
       "\tfont-size: 12pt;\n",
       "}\n",
       "p.q1 { \n",
       "    padding-top: 5px;\n",
       "    padding-bottom: 5px;\n",
       "    text-align: left; \n",
       "    padding-left: 5px;\n",
       "    background-color: #EEEEEE; \n",
       "    color: black;\n",
       "}\n",
       "header {\n",
       "   padding-top: 35px;\n",
       "    padding-bottom: 35px;\n",
       "    text-align: left; \n",
       "    padding-left: 10px;\n",
       "    background-color: #DDDDDD; \n",
       "    color: black;\n",
       "}\n",
       "</style>\n",
       "\n"
      ],
      "text/plain": [
       "<IPython.core.display.HTML object>"
      ]
     },
     "execution_count": 1,
     "metadata": {},
     "output_type": "execute_result"
    }
   ],
   "source": [
    "#RUN THIS CELL \n",
    "import requests\n",
    "from IPython.core.display import HTML\n",
    "styles = requests.get(\"https://raw.githubusercontent.com/Harvard-IACS/2018-CS109A/master/content/styles/cs109.css\").text\n",
    "HTML(styles)"
   ]
  },
  {
   "cell_type": "markdown",
   "metadata": {
    "deletable": false,
    "editable": false
   },
   "source": [
    "### INSTRUCTIONS\n",
    "\n",
    "- To submit your assignment follow the instructions given in canvas.\n",
    "- As much as possible, try and stick to the hints and functions we import at the top of the homework, as those are the ideas and tools the class supports and is aiming to teach. And if a problem specifies a particular library you're required to use that library, and possibly others from the import list.\n",
    "- Restart the kernel and run the whole notebook again before you submit. \n",
    "- Please use .head() when viewing data. Do not submit a notebook that is excessively long because output was not suppressed."
   ]
  },
  {
   "cell_type": "markdown",
   "metadata": {
    "deletable": false,
    "editable": false
   },
   "source": [
    "<hr style=\"height:2pt\">"
   ]
  },
  {
   "cell_type": "code",
   "execution_count": 2,
   "metadata": {
    "deletable": false,
    "editable": false,
    "scrolled": true
   },
   "outputs": [],
   "source": [
    "import numpy as np\n",
    "import pandas as pd\n",
    "import matplotlib\n",
    "import matplotlib.pyplot as plt\n",
    "from sklearn.metrics import r2_score\n",
    "from sklearn.neighbors import KNeighborsRegressor\n",
    "from sklearn.linear_model import LinearRegression\n",
    "from sklearn.model_selection import train_test_split\n",
    "import statsmodels.api as sm\n",
    "from statsmodels.api import OLS\n",
    "%matplotlib inline"
   ]
  },
  {
   "cell_type": "markdown",
   "metadata": {
    "deletable": false,
    "editable": false
   },
   "source": [
    "<hr style=\"height:2pt\">\n",
    "<hr style=\"height:2pt\">\n",
    "\n",
    "<div class='theme'> <b>Linear Algebra, Accuracy, and Confidence Intervals</b> </div>\n",
    "\n",
    "In this part of the homework, you will see how *uncertainty* in the $\\beta$ coefficients can directly impact our ability to make predictions with a linear regression model and how in general we can do inference on the predictors. \n",
    "\n",
    "The data for this supplement are imported for you in the cells below."
   ]
  },
  {
   "cell_type": "markdown",
   "metadata": {
    "deletable": false,
    "editable": false
   },
   "source": [
    "First a little review. The linear model assumes:\n",
    "$$ y_i \\sim N(\\beta_0+\\beta_1 x_i,\\sigma^2 )   $$\n",
    "\n",
    "This means, pun intended, that $ \\mu_{y_i} = \\beta_0+\\beta_1 x_i $, which can be estimated with $ \\hat{\\mu}_{y_i} = \\hat{\\beta}_0+\\hat{\\beta}_1 x_i $.\n",
    "\n",
    "And for a new observation not in the data set, once we measure the new predictor value, $x^*$, we can predict its response, $y^*$, from our model as:\n",
    "$$\\hat{y}^* = \\hat{\\mu}_{y_i} + \\hat{\\varepsilon}^* $$\n",
    "\n",
    "Which can be calculated by using the estimate for $\\hat{\\mu}_{y_i}$ and adding on a randomly selected value for $\\hat{\\varepsilon}^*$ from its assumed (and estimated) distribution, $N(0,\\hat{\\sigma}^2)$.\n"
   ]
  },
  {
   "cell_type": "code",
   "execution_count": 3,
   "metadata": {
    "deletable": false,
    "editable": false
   },
   "outputs": [
    {
     "data": {
      "text/html": [
       "<div>\n",
       "<style scoped>\n",
       "    .dataframe tbody tr th:only-of-type {\n",
       "        vertical-align: middle;\n",
       "    }\n",
       "\n",
       "    .dataframe tbody tr th {\n",
       "        vertical-align: top;\n",
       "    }\n",
       "\n",
       "    .dataframe thead th {\n",
       "        text-align: right;\n",
       "    }\n",
       "</style>\n",
       "<table border=\"1\" class=\"dataframe\">\n",
       "  <thead>\n",
       "    <tr style=\"text-align: right;\">\n",
       "      <th></th>\n",
       "      <th>name</th>\n",
       "      <th>mpg</th>\n",
       "      <th>cyl</th>\n",
       "      <th>disp</th>\n",
       "      <th>hp</th>\n",
       "      <th>drat</th>\n",
       "      <th>wt</th>\n",
       "      <th>qsec</th>\n",
       "      <th>vs</th>\n",
       "      <th>am</th>\n",
       "      <th>gear</th>\n",
       "      <th>carb</th>\n",
       "    </tr>\n",
       "  </thead>\n",
       "  <tbody>\n",
       "    <tr>\n",
       "      <td>0</td>\n",
       "      <td>Mazda RX4</td>\n",
       "      <td>21.0</td>\n",
       "      <td>6</td>\n",
       "      <td>160.0</td>\n",
       "      <td>110</td>\n",
       "      <td>3.90</td>\n",
       "      <td>2.620</td>\n",
       "      <td>16.46</td>\n",
       "      <td>0</td>\n",
       "      <td>1</td>\n",
       "      <td>4</td>\n",
       "      <td>4</td>\n",
       "    </tr>\n",
       "    <tr>\n",
       "      <td>1</td>\n",
       "      <td>Mazda RX4 Wag</td>\n",
       "      <td>21.0</td>\n",
       "      <td>6</td>\n",
       "      <td>160.0</td>\n",
       "      <td>110</td>\n",
       "      <td>3.90</td>\n",
       "      <td>2.875</td>\n",
       "      <td>17.02</td>\n",
       "      <td>0</td>\n",
       "      <td>1</td>\n",
       "      <td>4</td>\n",
       "      <td>4</td>\n",
       "    </tr>\n",
       "    <tr>\n",
       "      <td>2</td>\n",
       "      <td>Datsun 710</td>\n",
       "      <td>22.8</td>\n",
       "      <td>4</td>\n",
       "      <td>108.0</td>\n",
       "      <td>93</td>\n",
       "      <td>3.85</td>\n",
       "      <td>2.320</td>\n",
       "      <td>18.61</td>\n",
       "      <td>1</td>\n",
       "      <td>1</td>\n",
       "      <td>4</td>\n",
       "      <td>1</td>\n",
       "    </tr>\n",
       "    <tr>\n",
       "      <td>3</td>\n",
       "      <td>Hornet 4 Drive</td>\n",
       "      <td>21.4</td>\n",
       "      <td>6</td>\n",
       "      <td>258.0</td>\n",
       "      <td>110</td>\n",
       "      <td>3.08</td>\n",
       "      <td>3.215</td>\n",
       "      <td>19.44</td>\n",
       "      <td>1</td>\n",
       "      <td>0</td>\n",
       "      <td>3</td>\n",
       "      <td>1</td>\n",
       "    </tr>\n",
       "    <tr>\n",
       "      <td>4</td>\n",
       "      <td>Hornet Sportabout</td>\n",
       "      <td>18.7</td>\n",
       "      <td>8</td>\n",
       "      <td>360.0</td>\n",
       "      <td>175</td>\n",
       "      <td>3.15</td>\n",
       "      <td>3.440</td>\n",
       "      <td>17.02</td>\n",
       "      <td>0</td>\n",
       "      <td>0</td>\n",
       "      <td>3</td>\n",
       "      <td>2</td>\n",
       "    </tr>\n",
       "  </tbody>\n",
       "</table>\n",
       "</div>"
      ],
      "text/plain": [
       "                name   mpg  cyl   disp   hp  drat     wt   qsec  vs  am  gear  \\\n",
       "0          Mazda RX4  21.0    6  160.0  110  3.90  2.620  16.46   0   1     4   \n",
       "1      Mazda RX4 Wag  21.0    6  160.0  110  3.90  2.875  17.02   0   1     4   \n",
       "2         Datsun 710  22.8    4  108.0   93  3.85  2.320  18.61   1   1     4   \n",
       "3     Hornet 4 Drive  21.4    6  258.0  110  3.08  3.215  19.44   1   0     3   \n",
       "4  Hornet Sportabout  18.7    8  360.0  175  3.15  3.440  17.02   0   0     3   \n",
       "\n",
       "   carb  \n",
       "0     4  \n",
       "1     4  \n",
       "2     1  \n",
       "3     1  \n",
       "4     2  "
      ]
     },
     "execution_count": 3,
     "metadata": {},
     "output_type": "execute_result"
    }
   ],
   "source": [
    "import pandas as pd\n",
    "import statsmodels.api as sm\n",
    "import numpy as np\n",
    "import matplotlib.pyplot as plt\n",
    "\n",
    "df=pd.read_csv(\"data/cleaned_mtcars.csv\")\n",
    "df.head()"
   ]
  },
  {
   "cell_type": "code",
   "execution_count": 4,
   "metadata": {
    "deletable": false,
    "editable": false
   },
   "outputs": [
    {
     "name": "stderr",
     "output_type": "stream",
     "text": [
      "/home/ll/anaconda3/lib/python3.7/site-packages/numpy/core/fromnumeric.py:2495: FutureWarning: Method .ptp is deprecated and will be removed in a future version. Use numpy.ptp instead.\n",
      "  return ptp(axis=axis, out=out, **kwargs)\n"
     ]
    }
   ],
   "source": [
    "y = df[['mpg']].values\n",
    "X = df[['cyl','disp','hp','wt','qsec']]\n",
    "\n",
    "\n",
    "X = sm.add_constant(X)"
   ]
  },
  {
   "cell_type": "markdown",
   "metadata": {
    "deletable": false,
    "editable": false
   },
   "source": [
    "---- \n"
   ]
  },
  {
   "cell_type": "markdown",
   "metadata": {
    "deletable": false,
    "editable": false
   },
   "source": [
    "<div class='exercise'> <b> Question 1 [20 pts] </b>\n",
    "\n",
    "**1.1** Fit a simple linear regression model predicting `mpg` via `disp`. Use the `FittedOLS.get_prediction().summary_frame()` method to access the confidence intervals for our true mean predictions at various values of `disp` and make a well-labeled plot showing\n",
    " 1. The observed values of `disp` and `mpg`.\n",
    " 2. The estimated regression line.\n",
    " 3. The upper and lower bounds of the 95% confidence interval for the true average (not the observed) `mpg` at any given displacement.\n",
    " \n",
    "**1.2** Why do we have a confidence interval for our true mean prediction values?  Why isn't the mean prediction just a single number?\n",
    "\n",
    "**1.3** Someone asks what mean `mpg` you would predict for a `disp` value of 400. What do you tell them?  Paying attention to the confidence interval (1.1.3) above?\n",
    "\n",
    "**1.4** Why does the 95% confidence interval for the mean predicted `mpg` appear to curve as we move away from the data's center? \n",
    "\n",
    "**1.5** An alternative way to produce the confidence intervals from 1.1 is through the bootstrap.  Create 100 bootstrap samples in order to create 100 bootstrapped regression models and store their estimated intercept and slope values.  Use these bootstrapped estimates to build the 95\\% confidence intervals as in 1.1, and recreate the plot from that question with your new bootstrapped confidence intervals.  Compare this new plot to the one from 1.1.\n",
    "\n",
    "**1.6** Another interval of uncertainty in a regression model is called a *prediction interval*.  A prediction interval gives a range of plausible values for a future individual observation, $\\hat{y}^*$, given a specific value of $x$ in general (`disp` here).  How should the 95\\% prediction interval calculated at a `disp` value of 400 compare to the corresponding 95\\% confidence interval for the mean predicted `mpg`?  Justify with a few sentences.\n",
    "    \n",
    " </div>"
   ]
  },
  {
   "cell_type": "markdown",
   "metadata": {
    "deletable": false,
    "editable": false
   },
   "source": [
    "### Answers"
   ]
  },
  {
   "cell_type": "markdown",
   "metadata": {
    "autograde": "1.1",
    "deletable": false,
    "editable": false
   },
   "source": [
    "<div class='exercise-r'>  \n",
    " \n",
    "**1.1** Fit a simple linear regression model predicting `mpg` via `disp`. Use the `FittedOLS.get_prediction().summary_frame()` method to access the confidence intervals for our true mean predictions at various values of `disp` and make a well-labeled plot showing\n",
    " 1. The observed values of `disp` and `mpg`.\n",
    " 2. The estimated regression line.\n",
    " 3. The upper and lower bounds of the 95% confidence interval for the true average (not the observed) `mpg` at any given displacement.\n",
    " \n",
    " </div>"
   ]
  },
  {
   "cell_type": "code",
   "execution_count": 7,
   "metadata": {
    "deletable": false
   },
   "outputs": [
    {
     "name": "stderr",
     "output_type": "stream",
     "text": [
      "/home/ll/anaconda3/lib/python3.7/site-packages/numpy/core/fromnumeric.py:2495: FutureWarning: Method .ptp is deprecated and will be removed in a future version. Use numpy.ptp instead.\n",
      "  return ptp(axis=axis, out=out, **kwargs)\n"
     ]
    },
    {
     "data": {
      "image/png": "[encoded data removed]",
      "text/plain": [
       "<Figure size 432x288 with 1 Axes>"
      ]
     },
     "metadata": {
      "needs_background": "light"
     },
     "output_type": "display_data"
    }
   ],
   "source": [
    "# your code here \n",
    "X = df.sort_values(['disp'])['disp']\n",
    "X_const = sm.add_constant(X)\n",
    "\n",
    "y = df.sort_values(by='disp')['mpg']\n",
    "#print(X, y)\n",
    "\n",
    "model = sm.OLS(y, X_const)\n",
    "results = model.fit()\n",
    "y_pred = results.predict(X_const)\n",
    "\n",
    "c = results.get_prediction().summary_frame()\n",
    "#print(c)\n",
    "\n",
    "f, axes = plt.subplots()\n",
    "\n",
    "axes.plot(df[['disp']], y, 'bo', alpha = 0.5, label = 'Data')\n",
    "axes.plot(X, y_pred, 'k-', label = 'Prediction')\n",
    "axes.set_title('MPG via DISP', fontsize = 18)\n",
    "\n",
    "#print(X.shape, (c['mean_ci_lower']).shape)\n",
    "#sorted_disp.head()\n",
    "axes.plot(X, c['mean_ci_lower'], color = 'green', label = \"lower ci\" )\n",
    "axes.plot(X, c['mean_ci_upper'], color = 'purple', label = \"upper ci\" )\n",
    "axes.set_xlabel(\"DISP\")\n",
    "axes.set_ylabel(\"MPG\")\n",
    "axes.legend()\n",
    "\n",
    "ind_400 = (X.loc[X == 400].index)[0]\n",
    "msp_lci = c.loc[ind_400]['mean_ci_lower']\n",
    "msp_uci = c.loc[ind_400]['mean_ci_upper']"
   ]
  },
  {
   "cell_type": "code",
   "execution_count": null,
   "metadata": {},
   "outputs": [],
   "source": []
  },
  {
   "cell_type": "markdown",
   "metadata": {
    "autograde": "1.2",
    "deletable": false,
    "editable": false
   },
   "source": [
    "<div class='exercise-r'>  \n",
    " \n",
    "**1.2** Why do we have a confidence interval for our true mean prediction values?  Why isn't the mean prediction just a single number?\n",
    " \n",
    " </div>"
   ]
  },
  {
   "cell_type": "markdown",
   "metadata": {
    "deletable": false
   },
   "source": [
    "We have a confidence interval for our true mean prediction values because of the reducible error in the model. The $\\hat{\\beta}$'s found by our model may not align with the $\\beta$'s of the true population regression. The confidence interval measures that uncertainty in our model."
   ]
  },
  {
   "cell_type": "markdown",
   "metadata": {
    "autograde": "1.3",
    "deletable": false,
    "editable": false
   },
   "source": [
    "<div class='exercise-r'>  \n",
    " \n",
    "**1.3** Someone asks what mean `mpg` you would predict for a `disp` value of 400. What do you tell them?  Paying attention to the confidence interval (1.1.3) above?\n",
    " \n",
    " </div>"
   ]
  },
  {
   "cell_type": "markdown",
   "metadata": {
    "deletable": false
   },
   "source": [
    "We would say that we are 95% confident that the mean mpg is between 11.1 and 15.1. "
   ]
  },
  {
   "cell_type": "markdown",
   "metadata": {
    "deletable": false
   },
   "source": [
    "*Your answer here*"
   ]
  },
  {
   "cell_type": "markdown",
   "metadata": {
    "autograde": "1.4",
    "deletable": false,
    "editable": false
   },
   "source": [
    "<div class='exercise-r'>  \n",
    " \n",
    "**1.4** Why does the 95% confidence interval for the mean predicted `mpg` appear to curve as we move away from the data's center?\n",
    " \n",
    " </div>"
   ]
  },
  {
   "cell_type": "markdown",
   "metadata": {
    "deletable": false
   },
   "source": [
    "The 95% confidence will be smallest around the mean X value of our observations because this is the most \"stable\" point in the model. As we move away from that point, chages in the $\\beta$ values will have a larger effect on our predicted mean value, so the 95% confidence interval will increase. "
   ]
  },
  {
   "cell_type": "markdown",
   "metadata": {
    "autograde": "1.5",
    "deletable": false,
    "editable": false
   },
   "source": [
    "<div class='exercise-r'>  \n",
    " \n",
    "**1.5** An alternative way to produce the confidence intervals from 1.1 is through the bootstrap.  Create 100 bootstrap samples in order to create 100 bootstrapped regression models and store their estimated intercept and slope values.  Use these bootstrapped estimates to build the 95\\% confidence intervals as in 1.1, and recreate the plot from that question with your new bootstrapped confidence intervals.  Compare this new plot to the one from 1.1.\n",
    " \n",
    " </div>"
   ]
  },
  {
   "cell_type": "code",
   "execution_count": 23,
   "metadata": {
    "deletable": false
   },
   "outputs": [
    {
     "data": {
      "text/plain": [
       "<matplotlib.legend.Legend at 0x1401b5c10>"
      ]
     },
     "execution_count": 23,
     "metadata": {},
     "output_type": "execute_result"
    },
    {
     "data": {
      "image/png": "[encoded data removed]",
      "text/plain": [
       "<Figure size 1080x720 with 2 Axes>"
      ]
     },
     "metadata": {
      "needs_background": "light"
     },
     "output_type": "display_data"
    }
   ],
   "source": [
    "# your code here\n",
    "def bootstrap(df):\n",
    "    selectionIndex = np.random.randint(df.shape[0], size = df.shape[0])\n",
    "    new_df = df.iloc[selectionIndex]\n",
    "    return new_df\n",
    "\n",
    "boot_strap = 100\n",
    "intercept, slope = [], []\n",
    "#bootarray = np.empty([len(df['disp']), 101])\n",
    "#bootarray[:,0] = X\n",
    "bootDF = pd.DataFrame(X)\n",
    "#print(bootDF)\n",
    "\n",
    "for i in range(boot_strap):\n",
    "    df_new = bootstrap(df)\n",
    "    X_new = df_new.sort_values(['disp'])['disp']\n",
    "    X_const = sm.add_constant(X_new)\n",
    "\n",
    "    y = df_new.sort_values(by='disp')['mpg']\n",
    "    #print(X, y)\n",
    "\n",
    "    model = sm.OLS(y, X_const)\n",
    "    results = model.fit()\n",
    "    y_pred = results.predict(X_const)\n",
    "    \n",
    "    disp_slope = results.params['disp']\n",
    "    disp_inter = results.params['const']\n",
    "    \n",
    "    intercept.append(disp_inter)\n",
    "    slope.append(disp_slope)\n",
    "    \n",
    "    #bootarray[:,i] = disp_slope*df['disp']+ disp_inter\n",
    "    bootDF[i] = disp_slope*bootDF['disp']+ disp_inter\n",
    "    \n",
    "    \n",
    "#print(bootDF.head())\n",
    "sub_view = bootDF.loc[:, bootDF.columns != 'disp']\n",
    "bootDF['lower_ci'] = sub_view.apply(lambda x: np.percentile(x,2.5),axis=1)\n",
    "bootDF['upper_ci'] = sub_view.apply(lambda x: np.percentile(x,97.5),axis=1)\n",
    "#print(bootDF[['disp','lower_ci','upper_ci']])   \n",
    "\n",
    "\n",
    "meanslope = np.mean(slope)\n",
    "meaninter = np.mean(intercept)\n",
    "\n",
    "f, axes = plt.subplots(1,2, figsize=(15,10))\n",
    "\n",
    "axes[0].plot(bootDF['disp'], bootDF['disp']*meanslope+meaninter, color = 'black', label = \"mean ci\" )\n",
    "axes[0].plot(bootDF['disp'], bootDF['lower_ci'], color = 'blue', label = \"bootsrap lower ci\" )\n",
    "axes[0].plot(bootDF['disp'], bootDF['upper_ci'], color = 'blue', label = \"bootsrap upper ci\" )\n",
    "axes[0].set_title(\"MPG via DISP Confidence Interval using Bootstrap\")\n",
    "axes[0].set_xlabel(\"DISP\")\n",
    "axes[0].set_ylabel(\"MPG\")\n",
    "axes[0].legend()\n",
    "\n",
    "axes[1].plot(bootDF['disp'], bootDF['disp']*meanslope+meaninter, color = 'black', label = \"mean ci\" )\n",
    "axes[1].plot(bootDF['disp'], bootDF['lower_ci'], color = 'blue', label = \"bootsrap lower ci\" )\n",
    "axes[1].plot(bootDF['disp'], bootDF['upper_ci'], color = 'blue', label = \"bootsrap upper ci\" )\n",
    "axes[1].set_title(\"MPG via DISP Confidence Interval using Bootstrap overlayed with results from 1.1 \")\n",
    "axes[1].set_xlabel(\"DISP\")\n",
    "axes[1].set_ylabel(\"MPG\")\n",
    "axes[1].legend()\n",
    "\n",
    "axes[1].plot(X, c['mean_ci_lower'], color = 'red', label = \"lower ci\" )\n",
    "axes[1].plot(X, c['mean_ci_upper'], color = 'red', label = \"upper ci\" )\n",
    "axes[1].set_xlabel(\"DISP\")\n",
    "axes[1].set_ylabel(\"MPG\")\n",
    "axes[1].legend()\n"
   ]
  },
  {
   "cell_type": "markdown",
   "metadata": {
    "deletable": false
   },
   "source": [
    "*Your answer here*"
   ]
  },
  {
   "cell_type": "markdown",
   "metadata": {
    "autograde": "1.6",
    "deletable": false,
    "editable": false
   },
   "source": [
    "<div class='exercise-r'>  \n",
    " \n",
    "**1.6** Another interval of uncertainty in a regression model is called a *prediction interval*.  A prediction interval gives a range of plausible values for a future individual observation, $\\hat{y}^*$, given a specific value of $x$ in general (`disp` here).  How should the 95\\% prediction interval calculated at a `disp` value of 400 compare to the corresponding 95\\% confidence interval for the mean predicted `mpg`?  Justify with a few sentences.\n",
    " \n",
    " </div>"
   ]
  },
  {
   "cell_type": "markdown",
   "metadata": {
    "deletable": false
   },
   "source": [
    "The 95% prediction interval at disp value of 400 will be much larger than the 95% confidence interval at that same value. The 95% confidence only accounts for the error of our model in predicting the true mean of the data. However, our observations have some distribution around the true mean which will add some irreducible error. This error and the model error will be accounted for in the 95% prediction interval, which is why it is necessarily greater or equal to the confidence interval. "
   ]
  },
  {
   "cell_type": "code",
   "execution_count": null,
   "metadata": {
    "deletable": false,
    "editable": false
   },
   "outputs": [],
   "source": []
  },
  {
   "cell_type": "code",
   "execution_count": null,
   "metadata": {
    "deletable": false,
    "editable": false
   },
   "outputs": [],
   "source": []
  },
  {
   "cell_type": "code",
   "execution_count": null,
   "metadata": {
    "deletable": false,
    "editable": false
   },
   "outputs": [],
   "source": []
  }
 ],
 "metadata": {
  "anaconda-cloud": {},
  "kernelspec": {
   "display_name": "Python 3",
   "language": "python",
   "name": "python3"
  },
  "language_info": {
   "codemirror_mode": {
    "name": "ipython",
    "version": 3
   },
   "file_extension": ".py",
   "mimetype": "text/x-python",
   "name": "python",
   "nbconvert_exporter": "python",
   "pygments_lexer": "ipython3",
   "version": "3.7.4"
  },
  "varInspector": {
   "cols": {
    "lenName": 16,
    "lenType": 16,
    "lenVar": 40
   },
   "kernels_config": {
    "python": {
     "delete_cmd_postfix": "",
     "delete_cmd_prefix": "del ",
     "library": "var_list.py",
     "varRefreshCmd": "print(var_dic_list())"
    },
    "r": {
     "delete_cmd_postfix": ") ",
     "delete_cmd_prefix": "rm(",
     "library": "var_list.r",
     "varRefreshCmd": "cat(var_dic_list()) "
    }
   },
   "types_to_exclude": [
    "module",
    "function",
    "builtin_function_or_method",
    "instance",
    "_Feature"
   ],
   "window_display": false
  }
 },
 "nbformat": 4,
 "nbformat_minor": 4
}
