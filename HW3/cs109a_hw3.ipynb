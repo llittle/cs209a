{
 "cells": [
  {
   "cell_type": "markdown",
   "metadata": {
    "deletable": false,
    "editable": false
   },
   "source": [
    "# <img style=\"float: left; padding-right: 10px; width: 45px\" src=\"https://raw.githubusercontent.com/Harvard-IACS/2018-CS109A/master/content/styles/iacs.png\"> CS109A Introduction to Data Science: \n",
    "## Homework 3: Regression Modeling and Bacteria Growing\n",
    "\n",
    "**Harvard University**<br/>\n",
    "**Fall 2020**<br/>\n",
    "**Instructors**: Pavlos Protopapas, Kevin Rader, and Chris Tanner\n",
    "\n",
    "<hr style=\"height:2.4pt\">"
   ]
  },
  {
   "cell_type": "code",
   "execution_count": 6,
   "metadata": {
    "deletable": false,
    "editable": false
   },
   "outputs": [
    {
     "data": {
      "text/html": [
       "<style>\n",
       "blockquote { background: #AEDE94; }\n",
       "h1 { \n",
       "    padding-top: 25px;\n",
       "    padding-bottom: 25px;\n",
       "    text-align: left; \n",
       "    padding-left: 10px;\n",
       "    background-color: #DDDDDD; \n",
       "    color: black;\n",
       "}\n",
       "h2 { \n",
       "    padding-top: 10px;\n",
       "    padding-bottom: 10px;\n",
       "    text-align: left; \n",
       "    padding-left: 5px;\n",
       "    background-color: #EEEEEE; \n",
       "    color: black;\n",
       "}\n",
       "\n",
       "div.exercise {\n",
       "\tbackground-color: #ffcccc;\n",
       "\tborder-color: #E9967A; \t\n",
       "\tborder-left: 5px solid #800080; \n",
       "\tpadding: 0.5em;\n",
       "}\n",
       "\n",
       "div.exercise-r {\n",
       "\tbackground-color: #fce8e8;\n",
       "\tborder-color: #E9967A; \t\n",
       "\tborder-left: 5px solid #800080; \n",
       "\tpadding: 0.5em;\n",
       "}\n",
       "\n",
       "\n",
       "span.sub-q {\n",
       "\tfont-weight: bold;\n",
       "}\n",
       "div.theme {\n",
       "\tbackground-color: #DDDDDD;\n",
       "\tborder-color: #E9967A; \t\n",
       "\tborder-left: 5px solid #800080; \n",
       "\tpadding: 0.5em;\n",
       "\tfont-size: 18pt;\n",
       "}\n",
       "div.gc { \n",
       "\tbackground-color: #AEDE94;\n",
       "\tborder-color: #E9967A; \t \n",
       "\tborder-left: 5px solid #800080; \n",
       "\tpadding: 0.5em;\n",
       "\tfont-size: 12pt;\n",
       "}\n",
       "p.q1 { \n",
       "    padding-top: 5px;\n",
       "    padding-bottom: 5px;\n",
       "    text-align: left; \n",
       "    padding-left: 5px;\n",
       "    background-color: #EEEEEE; \n",
       "    color: black;\n",
       "}\n",
       "header {\n",
       "   padding-top: 35px;\n",
       "    padding-bottom: 35px;\n",
       "    text-align: left; \n",
       "    padding-left: 10px;\n",
       "    background-color: #DDDDDD; \n",
       "    color: black;\n",
       "}\n",
       "</style>\n",
       "\n"
      ],
      "text/plain": [
       "<IPython.core.display.HTML object>"
      ]
     },
     "execution_count": 6,
     "metadata": {},
     "output_type": "execute_result"
    }
   ],
   "source": [
    "#RUN THIS CELL \n",
    "import requests\n",
    "from IPython.core.display import HTML\n",
    "styles = requests.get(\"https://raw.githubusercontent.com/Harvard-IACS/2018-CS109A/master/content/styles/cs109.css\").text\n",
    "HTML(styles)"
   ]
  },
  {
   "cell_type": "markdown",
   "metadata": {
    "cell_id": "3c67b69c-c35a-45ee-88ff-99c701edb0a0",
    "colab_type": "text",
    "deletable": false,
    "editable": false,
    "id": "BlViDCbxVtbG"
   },
   "source": [
    "### Import Libraries"
   ]
  },
  {
   "cell_type": "code",
   "execution_count": 7,
   "metadata": {
    "cell_id": "c81fe721-9f10-4eec-b9a3-3a2534d1c3a2",
    "colab": {
     "base_uri": "https://localhost:8080/",
     "height": 71
    },
    "colab_type": "code",
    "deletable": false,
    "editable": false,
    "id": "aQbflkbDOxbz",
    "outputId": "a93e76ad-1f12-45fa-ec35-7853e450a1ff"
   },
   "outputs": [],
   "source": [
    "%matplotlib inline\n",
    "import math\n",
    "import numpy as np\n",
    "import pandas as pd\n",
    "import seaborn as sns\n",
    "from collections import Counter\n",
    "import matplotlib.pyplot as plt\n",
    "from sklearn.utils import shuffle\n",
    "from sklearn.linear_model import Lasso\n",
    "from sklearn.metrics import mean_squared_error\n",
    "from sklearn.linear_model import LinearRegression\n",
    "from sklearn.model_selection import cross_validate\n",
    "from sklearn.model_selection import train_test_split\n",
    "from sklearn.preprocessing import PolynomialFeatures\n",
    "\n",
    "import warnings"
   ]
  },
  {
   "cell_type": "markdown",
   "metadata": {
    "deletable": false,
    "editable": false
   },
   "source": [
    "<hr style=\"height:2pt\">\n",
    "\n",
    "### INSTRUCTIONS\n",
    "\n",
    "- **THIS IS A TWO-WEEK HOMEWORK**. The material is indeed two-weeks-worth of work, so make sure you start it early!!\n",
    "\n",
    "- To submit your assignment follow the instructions given in Canvas.\n",
    "\n",
    "- This homework can be submitted in pairs.\n",
    "\n",
    "- Please restart the kernel and run the entire notebook again before you submit.\n",
    "\n",
    "- Running cells out of order is a common pitfall in Jupyter Notebooks. To make sure your code works restart the kernel and run the whole notebook again before you submit. Exceptions should be made for code with a long execution time, of course.\n",
    "- We have tried to include all the libraries you may need to do the assignment in the imports statement at the top of this notebook. We strongly suggest that you use those and not others as we may not be familiar with them.\n",
    "- Please use .head() when viewing data. Do not submit a notebook that is **excessively long**. \n",
    "- In questions that require code to answer, such as \"calculate the $R^2$\", do not just output the value from a cell. Write a `print()` function that includes a reference to the calculated value, **not hardcoded**. For example: \n",
    "```\n",
    "print(f'The R^2 is {R:.4f}')\n",
    "```\n",
    "- Your plots should include clear labels for the $x$ and $y$ axes as well as a descriptive title (\"MSE plot\" is not a descriptive title; \"95 % confidence interval of coefficients of polynomial degree 5\" is).\n",
    "<hr style=\"height:2pt\">"
   ]
  },
  {
   "cell_type": "markdown",
   "metadata": {
    "cell_id": "21e9f773-e015-44ec-88c8-7f24b9a8191f",
    "colab_type": "text",
    "deletable": false,
    "editable": false,
    "id": "Uo0FiNThV923"
   },
   "source": [
    "\n",
    "<div class=\"theme\"> Overview and Data Description</div> \n",
    "\n",
    "### Predicting percentage change in multiple bacteria populations given their spreading factor.\n",
    "\n",
    "\n",
    "In this homework, we will mainly explore polynomial regression for \n",
    "predicting a quantitative variable. Specifically, we will build \n",
    "regression models that can predict the percentage change in \n",
    "bacteria population after 4 hours based on their spreading factor. \n",
    "These prediction models can be useful in clustering of a novel bacteria to any class. \n",
    "\n",
    "If the percentage of change in population increases this indicates \n",
    "that the size of the bacteria population is growing. \n",
    "One important factor to note is that the percentage change could be negative. \n",
    "This indicates that within the specified time frame, \n",
    "the population of the bacteria decreases from the original size.\n",
    "\n",
    "The data set for this problem has already been split for you. You will find the train and test data sets in the files `data/bacteria_train.csv` and `data/bacteria_test.csv`, respectively. The first column in each file contains the spreading factor of bacteria populations and the second column gives information about the change in percentage of the population. \n",
    "\n",
    "\n",
    "\n",
    " ### Problem Description\n",
    "Given the bacteria data, we will predict the percentage change in population, giving the spreading factor. For this exercise, we will consider the `Spreading_factor` to be our predictor variable and `Perc_population` to be our response variable. We will fit a polynomial regression model for a specified degree that computes the respective degree predictors to fit a model on the training set, which will be evaluated on the test set. The performance of the models should be evaluated using their $MSE$.\n",
    "\n"
   ]
  },
  {
   "cell_type": "markdown",
   "metadata": {
    "cell_id": "12fa439c-9984-44e4-a4f7-581a3e01d520",
    "colab_type": "text",
    "deletable": false,
    "editable": false,
    "id": "Inn1d2Hv1pIK"
   },
   "source": [
    "<div class='exercise'><b> Question 1:   Data Visualization [10 points total]</b>\n",
    "    \n",
    "**1.1** [6 pts] Generate a scatter plot of the data points in the `bacteria_train.csv` \n",
    "file with the `Spreading factor` on the $X$-axis and the `Percentage change` on the $Y$-axis. Make sure you clearly label the $x$ and $y$ axes and include proper title. \n",
    "\n",
    "**1.2** [4 pts] Based on the graph, is there any discernable relationship between \n",
    "the spreading factor and percentage change in population?\n",
    "    \n",
    "</div>\n"
   ]
  },
  {
   "cell_type": "markdown",
   "metadata": {
    "deletable": false,
    "editable": false
   },
   "source": [
    "### Your Answers"
   ]
  },
  {
   "cell_type": "markdown",
   "metadata": {
    "autograde": "1.1",
    "deletable": false,
    "editable": false
   },
   "source": [
    "<div class='exercise-r'>  \n",
    " \n",
    "**1.1** [6 pts] Generate a scatter plot of the data points in the `bacteria_train.csv`\n",
    " file with the `Spreading factor` on the $X$-axis and the `Percentage change` on the $Y$-axis. Make sure you clearly label the $x$ and $y$ axes and include proper title.\n",
    " \n",
    " </div>"
   ]
  },
  {
   "cell_type": "code",
   "execution_count": 8,
   "metadata": {
    "deletable": false
   },
   "outputs": [],
   "source": [
    "train = pd.read_csv('data/bacteria_train.csv')"
   ]
  },
  {
   "cell_type": "code",
   "execution_count": 9,
   "metadata": {
    "deletable": false
   },
   "outputs": [
    {
     "data": {
      "text/plain": [
       "Text(0.5, 1.0, 'Relationship between speading factor and population change')"
      ]
     },
     "execution_count": 9,
     "metadata": {},
     "output_type": "execute_result"
    },
    {
     "data": {
      "image/png": "[encoded data removed]",
      "text/plain": [
       "<Figure size 432x288 with 1 Axes>"
      ]
     },
     "metadata": {
      "needs_background": "light"
     },
     "output_type": "display_data"
    }
   ],
   "source": [
    "fig,ax = plt.subplots()\n",
    "ax.scatter(train['Spreading_factor'], train['Perc_population'])\n",
    "ax.set_xlabel(\"Spreading Factor\")\n",
    "ax.set_ylabel(\"Percentage change in population\")\n",
    "ax.set_title(\"Relationship between speading factor and population change\")"
   ]
  },
  {
   "cell_type": "markdown",
   "metadata": {
    "autograde": "1.2",
    "cell_id": "9f8a452f-c582-4403-afc7-e15ffe157d46",
    "deletable": false,
    "editable": false
   },
   "source": [
    "<div class='exercise-r'>  \n",
    " \n",
    "**1.2** [4 pts] Based on the graph, is there any discernable relationship between\n",
    " the spreading factor and percentage change in population?\n",
    " \n",
    " </div>"
   ]
  },
  {
   "cell_type": "markdown",
   "metadata": {
    "deletable": false
   },
   "source": [
    "There is a positive correlation between spreading factor and population change."
   ]
  },
  {
   "cell_type": "markdown",
   "metadata": {
    "cell_id": "58d06521-c4cf-4304-b68a-595205946e44",
    "deletable": false,
    "editable": false,
    "tags": []
   },
   "source": [
    "<hr style='height:2px'> \n",
    "\n",
    "### Your HW3 Roadmap\n",
    "\n",
    "We will be following this roadmap for the rest of the homework.\n",
    "\n",
    "![](soln-roadmap.png)\n"
   ]
  },
  {
   "cell_type": "markdown",
   "metadata": {
    "cell_id": "5c60cdd3-9885-4ac2-8144-635a481460f4",
    "deletable": false,
    "editable": false,
    "tags": []
   },
   "source": [
    "<div class='exercise'><b> Question 2:   Model Building: Guesstimate the polynomial relationship [10 points total]</b>\n",
    "\n",
    "**2.1** [5 pts] Examine the relationship between the predictor & response variable, and guesstimate the degree of the polynomial regression that may best fit the data.\n",
    "- Create a dictionary called `best_mse_dict` to store the best test MSEs for each type of model. The keys of this dictionary will be the question number, and the values will be the MSE values. So, for this question, you will have `best_mse_dict[\"2,1\"] = ...` .\n",
    "- Fit a polynomial regression on the training set.\n",
    "- Compute and print the mean_squared_error on the test set.\n",
    "- Generate a scatterplot of the data (as in 1.1) and plot your model's predictions in a different color. Make sure to label axes and include a descriptive title. Comment on the fit.\n",
    "- Explain your guesstimation of the degree.\n",
    "\n",
    "**2.2** [5 pts] Compute the confidence intervals for the coefficients. For the model fit above plot the 95% confidence interval of the beta values obtained in the regression model above.\n",
    "- Display the coefficient values of the model fit above.\n",
    "- For each bootstrap store the coefficients of the model as a list\n",
    "- Using the bootstrap list compute the 2.5 and 97.5 confidence points.\n",
    "- Plot the bootstrap data as a histogram of `Value of beta` vs. `Distribution of beta` for each beta value. Each figure should indicate regions of 95% confidence interval. As always, each figure must have appropriate axis labels and title. Use `plt.subplots(...)` to arrange your plots.\n",
    "\n",
    "**Hints**\n",
    "- Bootstrap for entire fraction (100%) of the training data.\n",
    "- Limit the number of bootstraps to 100.\n",
    "    \n",
    "    \n",
    "</div>\n"
   ]
  },
  {
   "cell_type": "markdown",
   "metadata": {
    "deletable": false,
    "editable": false
   },
   "source": [
    "### Answers"
   ]
  },
  {
   "cell_type": "markdown",
   "metadata": {
    "autograde": "2.1",
    "cell_id": "8f9f6e8b-e477-4a40-8a72-b4031b111b56",
    "colab_type": "text",
    "deletable": false,
    "editable": false,
    "id": "Iwnsapke2CYu"
   },
   "source": [
    "<div class='exercise-r'>  \n",
    " \n",
    "**2.1** [5 pts] Examine the relationship between the predictor & response variable, and guesstimate the degree of the polynomial regression that may best fit the data.\n",
    " - Create a dictionary called `best_mse_dict` to store the best test MSEs for each type of model. The keys of this dictionary will be the question number, and the values will be the MSE values. So, for this question, you will have `best_mse_dict[\"2,1\"] = ...` .\n",
    " - Fit a polynomial regression on the training set.\n",
    " - Compute and print the mean_squared_error on the test set.\n",
    " - Generate a scatterplot of the data (as in 1.1) and plot your model's predictions in a different color. Make sure to label axes and include a descriptive title. Comment on the fit.\n",
    " - Explain your guesstimation of the degree.\n",
    " \n",
    " </div>"
   ]
  },
  {
   "cell_type": "code",
   "execution_count": 10,
   "metadata": {
    "deletable": false
   },
   "outputs": [],
   "source": [
    "# Make a global dictionary to save the MSE values\n",
    "best_mse_dict = {}\n"
   ]
  },
  {
   "cell_type": "markdown",
   "metadata": {
    "deletable": false
   },
   "source": [
    "My best estimate is that the relationship is a 2nd degree polynomial. It looks like a simple quadratic with no nodes and no real inflection points.\n"
   ]
  },
  {
   "cell_type": "code",
   "execution_count": 11,
   "metadata": {
    "deletable": false
   },
   "outputs": [],
   "source": [
    "# train model on training data\n",
    "x_train = train[[\"Spreading_factor\"]]\n",
    "y_train = train[\"Perc_population\"]\n",
    "\n",
    "def bacteria_model(guess_degree, problem_num = None, x_train = None, y_train = None):    \n",
    "    x_poly_train = PolynomialFeatures(degree=guess_degree).fit_transform(x_train)\n",
    "    polymodel = LinearRegression()\n",
    "    polymodel.fit(x_poly_train, y_train)\n",
    "    \n",
    "    #load testing data\n",
    "    test = pd.read_csv('data/bacteria_test.csv')\n",
    "    test.sort_values(by = 'Spreading_factor', inplace = True)\n",
    "    x_test = test[['Spreading_factor']]\n",
    "    x_test_poly = PolynomialFeatures(degree = guess_degree).fit_transform(x_test)\n",
    "    y_test = test['Perc_population']\n",
    "    \n",
    "    #fit the testing data\n",
    "    y_test_pred = polymodel.predict(x_test_poly)\n",
    "    \n",
    "    #add to the dictionary if stated\n",
    "    if problem_num:\n",
    "        best_mse_dict[problem_num] = mean_squared_error(y_test, y_test_pred)\n",
    "        \n",
    "    #plot\n",
    "    fig, ax = plt.subplots()\n",
    "    ax.scatter(x_train, y_train, color = 'orange', label = \"Train Data\")\n",
    "    ax.scatter(x_test, y_test, color = 'k', label = \"Test Data\")\n",
    "    ax.plot(x_test, y_test_pred, 'r', label = \"Model prediction\", linewidth = 3)\n",
    "    ax.set_xlabel(\"Spreading Factor\")\n",
    "    ax.set_ylabel(\"Percentage Population Change\")\n",
    "    ax.set_title(f\"Test data vs {guess_degree} deg poly model fit\")\n",
    "    ax.legend()\n",
    "    \n",
    "    #print the MSE\n",
    "    print(f\"The MSE is {best_mse_dict[problem_num]:.2f}.\")\n",
    "    \n",
    "    return polymodel"
   ]
  },
  {
   "cell_type": "code",
   "execution_count": 12,
   "metadata": {
    "deletable": false
   },
   "outputs": [
    {
     "name": "stdout",
     "output_type": "stream",
     "text": [
      "The MSE is 2.65.\n"
     ]
    },
    {
     "data": {
      "image/png": "[encoded data removed]",
      "text/plain": [
       "<Figure size 432x288 with 1 Axes>"
      ]
     },
     "metadata": {
      "needs_background": "light"
     },
     "output_type": "display_data"
    }
   ],
   "source": [
    "guess_degree = 3\n",
    "\n",
    "guess_model = bacteria_model(guess_degree, problem_num = \"2.1\", \n",
    "                             x_train = train[[\"Spreading_factor\"]], \n",
    "                             y_train = train[\"Perc_population\"])"
   ]
  },
  {
   "cell_type": "code",
   "execution_count": null,
   "metadata": {
    "deletable": false
   },
   "outputs": [],
   "source": []
  },
  {
   "cell_type": "markdown",
   "metadata": {
    "autograde": "2.2",
    "cell_id": "cc4960c5-9dad-46a4-a608-02b926bce340",
    "colab_type": "text",
    "deletable": false,
    "editable": false,
    "id": "uZB7o6VR6Nt6"
   },
   "source": [
    "<div class='exercise-r'>  \n",
    " \n",
    "**2.2** [5 pts] Compute the confidence intervals for the coefficients. For the model fit above plot the 95% confidence interval of the beta values obtained in the regression model above.\n",
    " - Display the coefficient values of the model fit above.\n",
    " - For each bootstrap store the coefficients of the model as a list\n",
    " - Using the bootstrap list compute the 2.5 and 97.5 confidence points.\n",
    " - Plot the bootstrap data as a histogram of `Value of beta` vs. `Distribution of beta` for each beta value. Each figure should indicate regions of 95% confidence interval. As always, each figure must have appropriate axis labels and title. Use `plt.subplots(...)` to arrange your plots.\n",
    " \n",
    " **Hints**\n",
    " - Bootstrap for entire fraction (100%) of the training data.\n",
    " - Limit the number of bootstraps to 100.\n",
    " \n",
    " \n",
    " </div>"
   ]
  },
  {
   "cell_type": "code",
   "execution_count": 13,
   "metadata": {
    "deletable": false
   },
   "outputs": [
    {
     "name": "stdout",
     "output_type": "stream",
     "text": [
      "The model is 1.54 + 2.12x + 0.69x^2 +  -0.10x^3.\n"
     ]
    }
   ],
   "source": [
    "co = guess_model.coef_\n",
    "print(f\"The model is {guess_model.intercept_:.2f} + {co[1]:.2f}x + {co[2]:.2f}x^2 +  {co[3]:.2f}x^3.\")"
   ]
  },
  {
   "cell_type": "code",
   "execution_count": 14,
   "metadata": {
    "deletable": false
   },
   "outputs": [],
   "source": [
    "def bootstrap(df):\n",
    "    selectionIndex = np.random.randint(df.shape[0], size = df.shape[0])\n",
    "    new_df = df.iloc[selectionIndex]\n",
    "    return new_df"
   ]
  },
  {
   "cell_type": "code",
   "execution_count": 15,
   "metadata": {
    "deletable": false
   },
   "outputs": [
    {
     "data": {
      "image/png": "[encoded data removed]",
      "text/plain": [
       "<Figure size 432x288 with 1 Axes>"
      ]
     },
     "metadata": {
      "needs_background": "light"
     },
     "output_type": "display_data"
    },
    {
     "data": {
      "image/png": "[encoded data removed]",
      "text/plain": [
       "<Figure size 432x288 with 1 Axes>"
      ]
     },
     "metadata": {
      "needs_background": "light"
     },
     "output_type": "display_data"
    },
    {
     "data": {
      "image/png": "[encoded data removed]",
      "text/plain": [
       "<Figure size 432x288 with 1 Axes>"
      ]
     },
     "metadata": {
      "needs_background": "light"
     },
     "output_type": "display_data"
    }
   ],
   "source": [
    "coef_1_lst = []\n",
    "coef_2_lst = []\n",
    "coef_3_lst = []\n",
    "\n",
    "for i in range(100):\n",
    "    new_df = bootstrap(train)\n",
    "    x = new_df[[\"Spreading_factor\"]]\n",
    "    y = new_df[\"Perc_population\"]\n",
    "    x_poly = PolynomialFeatures(degree=guess_degree).fit_transform(x)\n",
    "\n",
    "    polymodel = LinearRegression()\n",
    "    polymodel.fit(x_poly, y)\n",
    "    \n",
    "    coef_1_lst.append(polymodel.coef_[1])\n",
    "    coef_2_lst.append(polymodel.coef_[2])\n",
    "    coef_3_lst.append(polymodel.coef_[3])\n",
    "    \n",
    "def coef_analyze(coef_lst, name):\n",
    "    coef_lst.sort()\n",
    "    coef_CI = (np.percentile(coef_lst,2.5),np.percentile(coef_lst,97.5))\n",
    "    \n",
    "    fig, ax = plt.subplots()\n",
    "    ax.hist(coef_lst)\n",
    "    ax.axvline(coef_CI[1], 0, 1, color = 'r', label = '95% interval')\n",
    "    ax.axvline(coef_CI[0], 0, 1, color = 'red', label = '2.5% interval')\n",
    "    ax.legend()\n",
    "    ax.set_title(f\"{name} coefficient histogram\")\n",
    "    ax.set_xlabel(f\"{name}coefficient value\")\n",
    "    ax.set_ylabel(\"Count\")\n",
    "    \n",
    "coef_analyze(coef_1_lst, \"x\")\n",
    "coef_analyze(coef_2_lst, \"x^2\")\n",
    "coef_analyze(coef_3_lst, \"x^3\")"
   ]
  },
  {
   "cell_type": "markdown",
   "metadata": {
    "cell_id": "5c60cdd3-9885-4ac2-8144-635a481460f4",
    "deletable": false,
    "editable": false,
    "tags": []
   },
   "source": [
    "<div class='exercise'><b> Question 3:   Use a validation set to find the most promising polynomial relationship [12 points total]</b>\n",
    "\n",
    "**3.1** [4 pts] Take out a small fraction of the training set for **validation**.\n",
    "- Compare degrees up to 30\n",
    "- For each degree of the polynomial\n",
    "     - Fit a polynomial regression on the training set.\n",
    "     - Calculate the mean_squared_error ($MSE$) on the *validation set*.\n",
    "    \n",
    "- Compare the values of the validation set, and select the degree for which the validation error is the least.\n",
    "\n",
    "**Hints**\n",
    "- Manually implement the validation - do not use `sklearn` for this question.\n",
    "\n",
    "**3.2** [4 pts] Now, with the best selected degree, again train the polynomial regression on the **complete training set** (including the small fraction that you took out to make the validation set). \n",
    "Compute and print the $MSE$ on the test set and add it to `best_mse_dict`.\n",
    "\n",
    "\n",
    "**3.3** [4 pts] Generate a scatterplot of the data (as in 1.1) and plot your model's predictions in a different color. Make sure to label axes and include a descriptive title. Comment on how your model fits the data.\n",
    "\n",
    "</div>  \n",
    "                                                                                                                                 "
   ]
  },
  {
   "cell_type": "markdown",
   "metadata": {
    "deletable": false,
    "editable": false
   },
   "source": [
    "### Your Answers"
   ]
  },
  {
   "cell_type": "markdown",
   "metadata": {
    "autograde": "3.1",
    "cell_id": "0a790850-87c6-4f46-b89e-048a2295c92b",
    "colab_type": "text",
    "deletable": false,
    "editable": false,
    "id": "IGFtXJmQap2q"
   },
   "source": [
    "<div class='exercise-r'>  \n",
    " \n",
    "**3.1** [4 pts] Take out a small fraction of the training set for **validation**.\n",
    " - Compare degrees up to 30\n",
    " - For each degree of the polynomial\n",
    " - Fit a polynomial regression on the training set.\n",
    " - Calculate the mean_squared_error ($MSE$) on the *validation set*.\n",
    " \n",
    " - Compare the values of the validation set, and select the degree for which the validation error is the least.\n",
    " \n",
    " **Hints**\n",
    " - Manually implement the validation - do not use `sklearn` for this question.\n",
    " \n",
    " </div>"
   ]
  },
  {
   "cell_type": "code",
   "execution_count": 16,
   "metadata": {
    "deletable": false
   },
   "outputs": [],
   "source": [
    "# make validation set\n",
    "train_x, val_x, train_y, val_y = train_test_split(\n",
    "    train[[\"Spreading_factor\"]], train['Perc_population'], train_size = 0.8, random_state = 44)\n",
    "\n",
    "mse_vals = {}\n",
    "\n",
    "#loop through all degree values\n",
    "for i in range(1,31):\n",
    "    val_x_poly = PolynomialFeatures(degree=i).fit_transform(val_x)\n",
    "    train_x_poly = PolynomialFeatures(degree=i).fit_transform(train_x)\n",
    "    \n",
    "    polymodel = LinearRegression()\n",
    "    polymodel.fit(train_x_poly, train_y)\n",
    "    \n",
    "    val_y_pred = polymodel.predict(val_x_poly)\n",
    "    mse_vals[i] = mean_squared_error(val_y, val_y_pred)"
   ]
  },
  {
   "cell_type": "code",
   "execution_count": 17,
   "metadata": {
    "deletable": false
   },
   "outputs": [
    {
     "name": "stdout",
     "output_type": "stream",
     "text": [
      "The best fit degree is 15.\n"
     ]
    },
    {
     "data": {
      "image/png": "[encoded data removed]",
      "text/plain": [
       "<Figure size 432x288 with 1 Axes>"
      ]
     },
     "metadata": {
      "needs_background": "light"
     },
     "output_type": "display_data"
    }
   ],
   "source": [
    "fig, ax = plt.subplots()\n",
    "ax.scatter([*mse_vals], [*mse_vals.values()], label = \"Validation data\")\n",
    "ax.set_xlabel(\"Polynomial Degree\")\n",
    "ax.set_ylabel(\"MSE\")\n",
    "ax.set_title(\"Polynomial degree vs MSE for validation data\")\n",
    "ax.legend()\n",
    "\n",
    "degree = min(mse_vals, key = mse_vals.get)\n",
    "print(f\"The best fit degree is {degree}.\")"
   ]
  },
  {
   "cell_type": "code",
   "execution_count": null,
   "metadata": {
    "deletable": false
   },
   "outputs": [],
   "source": []
  },
  {
   "cell_type": "code",
   "execution_count": 18,
   "metadata": {
    "deletable": false
   },
   "outputs": [],
   "source": [
    "# your code here\n"
   ]
  },
  {
   "cell_type": "code",
   "execution_count": 19,
   "metadata": {
    "deletable": false
   },
   "outputs": [],
   "source": [
    "# Print the train and validation MSE along with the degree of the best model. \n",
    "# To do this find the degree that gives the lowest MSE.\n",
    "# your code here \n"
   ]
  },
  {
   "cell_type": "markdown",
   "metadata": {
    "autograde": "3.2",
    "cell_id": "0a790850-87c6-4f46-b89e-048a2295c92b",
    "colab_type": "text",
    "deletable": false,
    "editable": false,
    "id": "IGFtXJmQap2q"
   },
   "source": [
    "<div class='exercise-r'>  \n",
    " \n",
    "**3.2** [4 pts] Now, with the best selected degree, again train the polynomial regression on the **complete training set** (including the small fraction that you took out to make the validation set).\n",
    " Compute and print the $MSE$ on the test set and add it to `best_mse_dict`.\n",
    " \n",
    " \n",
    " </div>"
   ]
  },
  {
   "cell_type": "code",
   "execution_count": 20,
   "metadata": {
    "deletable": false
   },
   "outputs": [
    {
     "name": "stdout",
     "output_type": "stream",
     "text": [
      "The MSE is 2.74.\n"
     ]
    },
    {
     "data": {
      "image/png": "[encoded data removed]",
      "text/plain": [
       "<Figure size 432x288 with 1 Axes>"
      ]
     },
     "metadata": {
      "needs_background": "light"
     },
     "output_type": "display_data"
    }
   ],
   "source": [
    "# your code here\n",
    "cross_model = bacteria_model(degree, problem_num = \"3.2\", x_train = train[[\"Spreading_factor\"]],\n",
    "              y_train = train[\"Perc_population\"])"
   ]
  },
  {
   "cell_type": "code",
   "execution_count": 21,
   "metadata": {
    "deletable": false
   },
   "outputs": [],
   "source": [
    "# your code here\n"
   ]
  },
  {
   "cell_type": "markdown",
   "metadata": {
    "autograde": "3.3",
    "cell_id": "d13f0498-7db8-4008-8209-e99ee4ff6b79",
    "colab_type": "text",
    "deletable": false,
    "editable": false,
    "id": "V0cd6shRfPjq"
   },
   "source": [
    "<div class='exercise-r'>  \n",
    " \n",
    "**3.3** [4 pts] Generate a scatterplot of the data (as in 1.1) and plot your model's predictions in a different color. Make sure to label axes and include a descriptive title. Comment on how your model fits the data.\n",
    " \n",
    " \n",
    " </div>"
   ]
  },
  {
   "cell_type": "markdown",
   "metadata": {
    "deletable": false
   },
   "source": [
    "Scatterplot is shown above in 3.2. The model looks like it is overfitting the data, and does not show a better fit to the testing data than the initial 3 degree polynomial did."
   ]
  },
  {
   "cell_type": "markdown",
   "metadata": {
    "deletable": false
   },
   "source": [
    "*Your answer here*"
   ]
  },
  {
   "cell_type": "markdown",
   "metadata": {
    "cell_id": "5c60cdd3-9885-4ac2-8144-635a481460f4",
    "deletable": false,
    "editable": false,
    "tags": []
   },
   "source": [
    "<div class='exercise'><b> Question 4:   Finding the best model by k-fold cross-validation [15 points total]</b>\n",
    "\n",
    "**4.1** [5 pts] In this part we find the best degree of the polynomial regression by running the model on a range of degree values and using k-fold cross validation. Use the `bacteria_train.csv` to train the model and `bacteria_test.csv` to test the model.\n",
    "\n",
    "**Instructions**\n",
    "- Read the train and test csv files.\n",
    "- Assign the predictor and response variables appropriately\n",
    "- Compute polynomial features up to degree 30. \n",
    "- For each degree in this range perform the following:\n",
    "    - Compute the polynomial features for the data.\n",
    "    - Perform k-fold cross validation with k=10\n",
    "    - Compute the polynomial features for the data.\n",
    "    - Compute the $MSE$ of the train and validation data and store in separate lists. \n",
    "- Print the train and validation MSE along with the degree of the best model. To do this find the degree that gives the lowest validation MSE.\n",
    "\n",
    "\n",
    "#### Hints\n",
    "* Use sklearn `cross_validate()` to perform cross validation.\n",
    "\n",
    "**4.2** [5 pts] Fitting the best model on the test data and compute and print the $MSE$ on the test set.\n",
    "\n",
    "**Instructions**\n",
    "- For the best degree computed above, compute the polynomial features for the data in the test csv file.\n",
    "- Train on the entire data from the train csv file and predict on the test data.\n",
    "- Report the $MSE$ for the fitted models on both the training and test sets. Save the **test** MSE in `best_mse_dict`.\n",
    "- Print the coefficients of the model.\n",
    "\n",
    "**Hints**\n",
    "* Sort the $x$ values before making your plots.\n",
    "\n",
    "**4.3** [5 pts] Generate a scatterplot of the data (as in 1.1) and plot your model's predictions in a different color. Make sure to label axes and include a descriptive title. Comment on how your model fits the data and how your model compares relative to the prior best-fit model you generated.\n",
    "    \n",
    "</div>"
   ]
  },
  {
   "cell_type": "markdown",
   "metadata": {
    "deletable": false,
    "editable": false
   },
   "source": [
    "### Your Answers"
   ]
  },
  {
   "cell_type": "markdown",
   "metadata": {
    "autograde": "4.1",
    "cell_id": "e5f47820-486a-4ad4-9a05-261f6cbd1cdd",
    "colab_type": "text",
    "deletable": false,
    "editable": false,
    "id": "EMVwiaUxsPzF"
   },
   "source": [
    "<div class='exercise-r'>  \n",
    " \n",
    "**4.1** [5 pts] In this part we find the best degree of the polynomial regression by running the model on a range of degree values and using k-fold cross validation. Use the `bacteria_train.csv` to train the model and `bacteria_test.csv` to test the model.\n",
    " \n",
    " **Instructions**\n",
    " - Read the train and test csv files.\n",
    " - Assign the predictor and response variables appropriately\n",
    " - Compute polynomial features up to degree 30.\n",
    " - For each degree in this range perform the following:\n",
    " - Compute the polynomial features for the data.\n",
    " - Perform k-fold cross validation with k=10\n",
    " - Compute the polynomial features for the data.\n",
    " - Compute the $MSE$ of the train and validation data and store in separate lists.\n",
    " - Print the train and validation MSE along with the degree of the best model. To do this find the degree that gives the lowest validation MSE.\n",
    " \n",
    " \n",
    " #### Hints\n",
    " * Use sklearn `cross_validate()` to perform cross validation.\n",
    " \n",
    " </div>"
   ]
  },
  {
   "cell_type": "code",
   "execution_count": 22,
   "metadata": {
    "deletable": false
   },
   "outputs": [
    {
     "name": "stdout",
     "output_type": "stream",
     "text": [
      "The best fit degree is 8 with a MSE of 2.60.\n"
     ]
    }
   ],
   "source": [
    "x = train[[\"Spreading_factor\"]]\n",
    "y = train[\"Perc_population\"]\n",
    "\n",
    "mse_vals = {}\n",
    "\n",
    "#loop through all degree values\n",
    "for i in range(1,31):\n",
    "    x_poly = PolynomialFeatures(degree=i).fit_transform(x)\n",
    "    \n",
    "    polymodel = LinearRegression()\n",
    "    polymodel.fit(x_poly, y)\n",
    "    \n",
    "    mse_score = cross_validate(polymodel, x_poly, y, scoring = \"neg_mean_squared_error\", cv = 10)\n",
    "    mse_vals[i] = np.mean(np.abs(mse_score['test_score']))\n",
    "    \n",
    "degree = min(mse_vals, key = mse_vals.get)\n",
    "print(f\"The best fit degree is {degree} with a MSE of {mse_vals[degree]:.2f}.\")"
   ]
  },
  {
   "cell_type": "markdown",
   "metadata": {
    "deletable": false
   },
   "source": [
    "\n"
   ]
  },
  {
   "cell_type": "code",
   "execution_count": 23,
   "metadata": {
    "deletable": false
   },
   "outputs": [],
   "source": [
    "# your code here\n"
   ]
  },
  {
   "cell_type": "code",
   "execution_count": 24,
   "metadata": {
    "deletable": false
   },
   "outputs": [],
   "source": [
    "# your code here\n"
   ]
  },
  {
   "cell_type": "code",
   "execution_count": 25,
   "metadata": {
    "deletable": false
   },
   "outputs": [],
   "source": [
    "# Find the best value of d, which gives the least error on the test data\n",
    "# best_d = min(mse_error, key=mse_error.get)\n",
    "# your code here"
   ]
  },
  {
   "cell_type": "code",
   "execution_count": 26,
   "metadata": {
    "deletable": false
   },
   "outputs": [],
   "source": [
    "# your code here\n"
   ]
  },
  {
   "cell_type": "markdown",
   "metadata": {
    "autograde": "4.2",
    "cell_id": "8f9f6e8b-e477-4a40-8a72-b4031b111b56",
    "colab_type": "text",
    "deletable": false,
    "editable": false,
    "id": "Iwnsapke2CYu"
   },
   "source": [
    "<div class='exercise-r'>  \n",
    " \n",
    "**4.2** [5 pts] Fitting the best model on the test data and compute and print the $MSE$ on the test set.\n",
    " \n",
    " **Instructions**\n",
    " - For the best degree computed above, compute the polynomial features for the data in the test csv file.\n",
    " - Train on the entire data from the train csv file and predict on the test data.\n",
    " - Report the $MSE$ for the fitted models on both the training and test sets. Save the **test** MSE in `best_mse_dict`.\n",
    " - Print the coefficients of the model.\n",
    " \n",
    " **Hints**\n",
    " * Sort the $x$ values before making your plots.\n",
    " \n",
    " </div>"
   ]
  },
  {
   "cell_type": "code",
   "execution_count": 30,
   "metadata": {
    "deletable": false
   },
   "outputs": [
    {
     "name": "stdout",
     "output_type": "stream",
     "text": [
      "The MSE is 2.61.\n",
      "The coefficients of the model are: [ 0.          2.59702778 -1.09486847 -1.18913441  3.48314914  0.65287664\n",
      " -1.71300787 -0.11530516  0.24041837]\n"
     ]
    },
    {
     "data": {
      "image/png": "[encoded data removed]",
      "text/plain": [
       "<Figure size 432x288 with 1 Axes>"
      ]
     },
     "metadata": {
      "needs_background": "light"
     },
     "output_type": "display_data"
    }
   ],
   "source": [
    "#Compute the polynomial features\n",
    "# your code here\n",
    "model = bacteria_model(degree, problem_num = \"4.2\", \n",
    "                      x_train = train[[\"Spreading_factor\"]],\n",
    "                      y_train = train[\"Perc_population\"])\n",
    "print(f\"The coefficients of the model are: {model.coef_}\")"
   ]
  },
  {
   "cell_type": "code",
   "execution_count": 31,
   "metadata": {
    "deletable": false
   },
   "outputs": [],
   "source": [
    "# your code here\n"
   ]
  },
  {
   "cell_type": "code",
   "execution_count": 32,
   "metadata": {
    "deletable": false
   },
   "outputs": [
    {
     "data": {
      "text/plain": [
       "{'2.1': 2.6519056545149615,\n",
       " '3.2': 2.736482506408821,\n",
       " '4.2': 2.6130106373530135}"
      ]
     },
     "execution_count": 32,
     "metadata": {},
     "output_type": "execute_result"
    }
   ],
   "source": [
    "# your code here\n",
    "best_mse_dict"
   ]
  },
  {
   "cell_type": "markdown",
   "metadata": {
    "autograde": "4.3",
    "cell_id": "cc4960c5-9dad-46a4-a608-02b926bce340",
    "colab_type": "text",
    "deletable": false,
    "editable": false,
    "id": "uZB7o6VR6Nt6"
   },
   "source": [
    "<div class='exercise-r'>  \n",
    " \n",
    "**4.3** [5 pts] Generate a scatterplot of the data (as in 1.1) and plot your model's predictions in a different color. Make sure to label axes and include a descriptive title. Comment on how your model fits the data and how your model compares relative to the prior best-fit model you generated.\n",
    " \n",
    " </div>"
   ]
  },
  {
   "cell_type": "markdown",
   "metadata": {
    "deletable": false
   },
   "source": [
    "Scatterplot shown above. The 8 degree polynomial still looks like it is overfitting to the data a bit at the low and high speading factors. However the MSE is lower for this model than for my (lower degree) guess or the (higher degree) single validation set, so the cross validation did work well. "
   ]
  },
  {
   "cell_type": "markdown",
   "metadata": {
    "deletable": false
   },
   "source": [
    "*Your answer here*"
   ]
  },
  {
   "cell_type": "markdown",
   "metadata": {
    "cell_id": "5c60cdd3-9885-4ac2-8144-635a481460f4",
    "deletable": false,
    "editable": false,
    "tags": []
   },
   "source": [
    "<div class='exercise'><b> Question 5:   Finding the most <b>consistent</b> model; use k-fold cross validation along with bootstraps [13 points total]</b>\n",
    "\n",
    "**5.1** [5 pts] In the previous part, we used k-fold cross-validation to find the best model. But how confident are you of your estimated best degree? We have already used bootstraps earlier to estimate the confidence interval of our $\\beta_i$ values. In this segment, we will use *bootstrapping* to test the robustness of our estimation. As before, we use the `bacteria_train.csv` to train the model and `bacteria_test.csv` to test the model.\n",
    "\n",
    "**Instructions**\n",
    "- Read the train and test csv files.\n",
    "- Assign the predictor and response variables appropriately\n",
    "- Select the max degree for computing the polynomial features and number of bootstraps.\n",
    "- Create bootstraps of the data. For each bootstrap perform the following:\n",
    "    - For each degree in the range of max degree perform the following:\n",
    "        - Compute the polynomial features for the data.\n",
    "        - Perform k-fold cross validation with k=10\n",
    "        - Compute the polynomial features for the data.\n",
    "        - Compute the $MSE$ of the train and validation data and store in separate lists. \n",
    "    - Select the degree for which the mean of the k-fold **validation** $MSE$ is the least.\n",
    "    - Store the best degree in a list\n",
    "- Plot a histogram with `Degree of polynomial` on the $x$-axis and `Number of degrees voted best` on the $y$-axis, from the above steps.\n",
    "- The degree voted best the most times can be selected as the best degree\n",
    "- Retrain on the entire test set and report the $MSE$ on the test set.\n",
    "\n",
    "**Hints**\n",
    "- Limit the maximum degree to 50.\n",
    "- Limit the number of bootstraps to 100.\n",
    "- Use sklearn `cross_validate()` to perform cross validation.\n",
    "\n",
    "**5.2** [3 pts] What are your observations? \n",
    "\n",
    "- Why do you see so much variance in the `best_degree` over the bootstraps?\n",
    "- What will you choose as your `best_degree` for the test set? \n",
    "\n",
    "**5.3** [5 pts] Fitting the best model on the test data.\n",
    "\n",
    "**Instructions**\n",
    "- For the best degree computed above, compute the polynomial features for the data in the test csv file.\n",
    "- Train on the entire data from the train csv file and predict on the test data.\n",
    "- Print the MSE of the model on the test data, and save it in `best_mse_dict`\n",
    "- Make a scatter plot of `Spread factor` vs. `Percentage change in population` for your best degree. The figure should have plot of the test prediction from the regression and the actual values on the same figure. Plot the fit curve as well, and comment on how it fits the data, as well as how it compares to prior model fits.\n",
    "- Print the coefficients of the model\n",
    "    \n",
    "    \n",
    "</div>"
   ]
  },
  {
   "cell_type": "markdown",
   "metadata": {
    "deletable": false,
    "editable": false
   },
   "source": [
    "### Your Answers"
   ]
  },
  {
   "cell_type": "markdown",
   "metadata": {
    "autograde": "5.1",
    "cell_id": "0a790850-87c6-4f46-b89e-048a2295c92b",
    "colab_type": "text",
    "deletable": false,
    "editable": false,
    "id": "IGFtXJmQap2q"
   },
   "source": [
    "<div class='exercise-r'>  \n",
    " \n",
    "**5.1** [5 pts] In the previous part, we used k-fold cross-validation to find the best model. But how confident are you of your estimated best degree? We have already used bootstraps earlier to estimate the confidence interval of our $\\beta_i$ values. In this segment, we will use *bootstrapping* to test the robustness of our estimation. As before, we use the `bacteria_train.csv` to train the model and `bacteria_test.csv` to test the model.\n",
    " \n",
    " **Instructions**\n",
    " - Read the train and test csv files.\n",
    " - Assign the predictor and response variables appropriately\n",
    " - Select the max degree for computing the polynomial features and number of bootstraps.\n",
    " - Create bootstraps of the data. For each bootstrap perform the following:\n",
    " - For each degree in the range of max degree perform the following:\n",
    " - Compute the polynomial features for the data.\n",
    " - Perform k-fold cross validation with k=10\n",
    " - Compute the polynomial features for the data.\n",
    " - Compute the $MSE$ of the train and validation data and store in separate lists.\n",
    " - Select the degree for which the mean of the k-fold **validation** $MSE$ is the least.\n",
    " - Store the best degree in a list\n",
    " - Plot a histogram with `Degree of polynomial` on the $x$-axis and `Number of degrees voted best` on the $y$-axis, from the above steps.\n",
    " - The degree voted best the most times can be selected as the best degree\n",
    " - Retrain on the entire test set and report the $MSE$ on the test set.\n",
    " \n",
    " **Hints**\n",
    " - Limit the maximum degree to 50.\n",
    " - Limit the number of bootstraps to 100.\n",
    " - Use sklearn `cross_validate()` to perform cross validation.\n",
    " \n",
    " </div>"
   ]
  },
  {
   "cell_type": "code",
   "execution_count": 33,
   "metadata": {
    "deletable": false
   },
   "outputs": [],
   "source": [
    "# your code here\n",
    "max_deg = 50\n",
    "bootstraps = 100\n"
   ]
  },
  {
   "cell_type": "code",
   "execution_count": 34,
   "metadata": {
    "deletable": false
   },
   "outputs": [
    {
     "name": "stdout",
     "output_type": "stream",
     "text": [
      "Most common degree is 8.\n"
     ]
    },
    {
     "data": {
      "image/png": "[encoded data removed]",
      "text/plain": [
       "<Figure size 432x288 with 1 Axes>"
      ]
     },
     "metadata": {
      "needs_background": "light"
     },
     "output_type": "display_data"
    }
   ],
   "source": [
    "# train data already read\n",
    "\n",
    "#read in test data\n",
    "test = pd.read_csv('data/bacteria_test.csv')\n",
    "x_test = test[['Spreading_factor']]\n",
    "x_test_poly = PolynomialFeatures(degree = guess_degree).fit_transform(x_test)\n",
    "y_test = test['Perc_population']\n",
    "\n",
    "degree = [] #best degree in each bootstrap\n",
    "\n",
    "#bootstrap\n",
    "for i in range(bootstraps+1):\n",
    "    new_df = bootstrap(train)\n",
    "    x = new_df[[\"Spreading_factor\"]]\n",
    "    y = new_df[\"Perc_population\"]\n",
    "    x_poly = PolynomialFeatures(degree=guess_degree).fit_transform(x)\n",
    "    \n",
    "    mse_vals = {}\n",
    "    \n",
    "    #loop through degree values for bootstrap \n",
    "    for i in range(1,max_deg+1):\n",
    "\n",
    "        polymodel = LinearRegression()\n",
    "        polymodel.fit(x_poly, y)\n",
    "\n",
    "        x_poly = PolynomialFeatures(degree=i).fit_transform(x)\n",
    "\n",
    "        polymodel = LinearRegression()\n",
    "        polymodel.fit(x_poly, y)\n",
    "\n",
    "        mse_score = cross_validate(polymodel, x_poly, y, scoring = \"neg_mean_squared_error\", cv = 10)\n",
    "        mse_vals[i] = np.mean(np.abs(mse_score['test_score']))\n",
    "    \n",
    "    #find the best MSE from all degrees\n",
    "    degree.append(min(mse_vals, key = mse_vals.get))\n",
    "\n",
    "fig, ax = plt.subplots()  \n",
    "ax.hist(degree)\n",
    "ax.set_xlabel(\"Best Degree\")\n",
    "ax.set_ylabel(\"Count\")\n",
    "ax.set_title(\"Finding the best polynomial degree with bootstaps\")\n",
    "\n",
    "best_degree = max(set(degree), key=degree.count)\n",
    "print(f\"Most common degree is {best_degree}.\")"
   ]
  },
  {
   "cell_type": "code",
   "execution_count": 35,
   "metadata": {
    "deletable": false
   },
   "outputs": [],
   "source": [
    "# your code here\n"
   ]
  },
  {
   "cell_type": "markdown",
   "metadata": {
    "autograde": "5.2",
    "cell_id": "8f9f6e8b-e477-4a40-8a72-b4031b111b56",
    "colab_type": "text",
    "deletable": false,
    "editable": false,
    "id": "Iwnsapke2CYu"
   },
   "source": [
    "<div class='exercise-r'>  \n",
    " \n",
    "**5.2** [3 pts] What are your observations?\n",
    " \n",
    " - Why do you see so much variance in the `best_degree` over the bootstraps?\n",
    " - What will you choose as your `best_degree` for the test set?\n",
    " \n",
    " </div>"
   ]
  },
  {
   "cell_type": "markdown",
   "metadata": {
    "deletable": false
   },
   "source": [
    "Since each bootstrap is a randomly selected number of datapoints from my total dataset it is feasible that some subsection of data is perfectly quadratic while another perfectly fits a 12th degree polynomial. \n",
    "\n",
    "However on average there should be one degree that works more often than others, and in this case that degree is 8, which happens to line up with what I got initially. "
   ]
  },
  {
   "cell_type": "markdown",
   "metadata": {
    "autograde": "5.3",
    "cell_id": "8f9f6e8b-e477-4a40-8a72-b4031b111b56",
    "colab_type": "text",
    "deletable": false,
    "editable": false,
    "id": "Iwnsapke2CYu"
   },
   "source": [
    "<div class='exercise-r'>  \n",
    " \n",
    "**5.3** [5 pts] Fitting the best model on the test data.\n",
    " \n",
    " **Instructions**\n",
    " - For the best degree computed above, compute the polynomial features for the data in the test csv file.\n",
    " - Train on the entire data from the train csv file and predict on the test data.\n",
    " - Print the MSE of the model on the test data, and save it in `best_mse_dict`\n",
    " - Make a scatter plot of `Spread factor` vs. `Percentage change in population` for your best degree. The figure should have plot of the test prediction from the regression and the actual values on the same figure. Plot the fit curve as well, and comment on how it fits the data, as well as how it compares to prior model fits.\n",
    " - Print the coefficients of the model\n",
    " \n",
    " \n",
    " </div>"
   ]
  },
  {
   "cell_type": "code",
   "execution_count": 36,
   "metadata": {
    "deletable": false
   },
   "outputs": [],
   "source": [
    "# your code here\n"
   ]
  },
  {
   "cell_type": "code",
   "execution_count": 38,
   "metadata": {
    "deletable": false
   },
   "outputs": [
    {
     "name": "stdout",
     "output_type": "stream",
     "text": [
      "The MSE is 2.61.\n"
     ]
    },
    {
     "data": {
      "image/png": "[encoded data removed]",
      "text/plain": [
       "<Figure size 432x288 with 1 Axes>"
      ]
     },
     "metadata": {
      "needs_background": "light"
     },
     "output_type": "display_data"
    }
   ],
   "source": [
    "# Select the best degree from the above exercise\n",
    "# your code here\n",
    "cross_model = bacteria_model(best_degree, problem_num = \"5.3\", x_train = train[[\"Spreading_factor\"]], y_train = train[\"Perc_population\"])"
   ]
  },
  {
   "cell_type": "code",
   "execution_count": null,
   "metadata": {
    "deletable": false
   },
   "outputs": [],
   "source": [
    "#Compute the polynomial features\n",
    "# your code here\n"
   ]
  },
  {
   "cell_type": "code",
   "execution_count": null,
   "metadata": {
    "deletable": false
   },
   "outputs": [],
   "source": [
    "# your code here\n"
   ]
  },
  {
   "cell_type": "code",
   "execution_count": null,
   "metadata": {
    "deletable": false
   },
   "outputs": [],
   "source": [
    "# your code here\n"
   ]
  },
  {
   "cell_type": "code",
   "execution_count": null,
   "metadata": {
    "deletable": false
   },
   "outputs": [],
   "source": [
    "# your code here\n"
   ]
  },
  {
   "cell_type": "markdown",
   "metadata": {
    "deletable": false
   },
   "source": [
    "This looks exactly the same as in problem 3, since the selected degree of polynomial is the same. "
   ]
  },
  {
   "cell_type": "markdown",
   "metadata": {
    "cell_id": "8a32aef5-65a6-426d-a7ca-1f6fd63b3b16",
    "deletable": false,
    "editable": false
   },
   "source": [
    "<div class='exercise'><b> Question 6:   Improving model consistency [30 points total]</b>\n",
    "\n",
    "In the previous sections, we compared many polynomial models to find the best degree. For each model of degree $n$, we considered all polynomial coefficients *up to* **degree `n`** using `Polynomial_features`. In this section $n=30$, and our **best model** can be chosen from any possible combination of the **30** degrees chosen.\n",
    "\n",
    "For eg. a model with degrees `1,2,4,6`\n",
    "\n",
    "The total number of such possible models is $2^{30}\\approx10^9$ and searching through all of them would be laborious and computationally inefficient. Instead, we can use $Lasso$ Regularization which *switches off* highly unstable degree coefficients and gives us the most efficient solution.\n",
    "\n",
    "**6.1** [10 pts] Find the best hyper-parameter `alpha`\n",
    "\n",
    "First, we will use `cross_validation` to find the the best regularization parameter `alpha`. As before, we use the `bacteria_train.csv` for cross validation.\n",
    "\n",
    "**NOTE**: You are free to experiment with the values of alpha. Our suggestion is to use in powers of 10 from $10^{-3}$ to $10^{3}$\n",
    "\n",
    "#### Instructions\n",
    "- Read the train csv file.\n",
    "- Assign the predictor and response variables appropriately\n",
    "- Select the max degree of the polynomial, and make a list of `alpha` values\n",
    "- For each value of `alpha`:\n",
    "    - Compute the polynomial features for the data.\n",
    "    - Create a `Lasso` regularization model with the value of `alpha`\n",
    "    - Perform k-fold cross validation with k=10 using `Lasso` as model.\n",
    "    - Compute and print the $MSE$ of the train and validation data and store in separate lists. \n",
    "- Select the `alpha` for which the mean of the k-fold $MSE$ is the least.\n",
    "- Store the previously selected values as `best_alpha` & print it.\n",
    "\n",
    "\n",
    "#### Hints\n",
    "- Limit the maximum degree to 30.\n",
    "- Take at least three different values of alpha.\n",
    "- Use sklearn `cross_validate()` to perform cross validation.\n",
    "\n",
    "**6.2** [10 pts] Find the most significant degrees.\n",
    "\n",
    "From the previous section, you will now have the `best_alpha` hyperparameter. Now, we will use this to find the most significant degrees over a given number of bootstraps. What we mean by the above is this:\n",
    "\n",
    "For each bootstrap of the data, you will get some degrees that are **significant** $(\\mid\\beta_i\\mid \\gt 0.1)$. You would like to see which degree coefficients are significant over several such iterations.\n",
    "\n",
    "As before, we use the `bacteria_train.csv` for cross validation.\n",
    "\n",
    "NOTE: You are free to experiment with the number of bootstraps.\n",
    "\n",
    "**Instructions**\n",
    "- Make a dictionary called `significant_degrees` to store count of degrees for each bootstrap\n",
    "- For each bootstrap:\n",
    "    - Take a sample the dataframe with `frac=1`\n",
    "    - Train a **Lasso** model with the `best_alpha` computed above.\n",
    "    - Find the most significant polynomial coefficients using ($\\mid\\beta_i\\mid \\lt 0.1 $)\n",
    "    - For each significant degree, update the count of that degree in `significant_degrees` \n",
    "- Plot the count of degrees for each bootstrap as a bar plot.\n",
    "\n",
    "\n",
    "#### Hints\n",
    "- Limit the maximum degree to 30.\n",
    "- Take at least three different values of alpha.\n",
    "- Use sklearn `cross_validate()` to perform cross validation.\n",
    "\n",
    "**6.3** [5 pts] Compute and print the MSE on the test set\n",
    "\n",
    "Now, from the previous plot, you can see that only some degrees are consistently significant over several bootstraps. You will now retrain the *L1* regularized model on the entire **training** data and find the test $MSE$\n",
    "\n",
    "#### Instructions\n",
    "\n",
    "- Based on the plot from 6.2, choose the maximum degree of the polynomial you will fit for your final model.\n",
    "- Retrain the *regularized* ***LASSO*** model with your chosen degree on the entire test set and report the $MSE$ on the test set.\n",
    "- Find and print the degrees of the polynomial that have cofficients with absolute value greater than 0.1\n",
    "- Save the test $MSE$ to `best_mse_dict`.\n",
    "\n",
    "**6.4** [5 pts] What are your observations?\n",
    "\n",
    "- Compare your `best_degree` from question 5 with your chosen degree in 6.3 above and comment on the difference.\n",
    "- Which degree coefficients in your best fit model from above are significant? If not all coefficients are significant, why?\n",
    "- Compare your test $MSE$ in this question with the result from question 5. Which one is smaller, and by how much?\n",
    "- Is your current model more reliable than the models in question 5 and prior? On what basis do you claim its robustness?\n",
    "    \n",
    "    \n",
    "</div>"
   ]
  },
  {
   "cell_type": "markdown",
   "metadata": {
    "deletable": false,
    "editable": false
   },
   "source": [
    "### Your Answers"
   ]
  },
  {
   "cell_type": "markdown",
   "metadata": {
    "autograde": "6.1",
    "deletable": false,
    "editable": false
   },
   "source": [
    "<div class='exercise-r'>  \n",
    " \n",
    "**6.1** [10 pts] Find the best hyper-parameter `alpha`\n",
    " \n",
    " First, we will use `cross_validation` to find the the best regularization parameter `alpha`. As before, we use the `bacteria_train.csv` for cross validation.\n",
    " \n",
    " **NOTE**: You are free to experiment with the values of alpha. Our suggestion is to use in powers of 10 from $10^{-3}$ to $10^{3}$\n",
    " \n",
    " #### Instructions\n",
    " - Read the train csv file.\n",
    " - Assign the predictor and response variables appropriately\n",
    " - Select the max degree of the polynomial, and make a list of `alpha` values\n",
    " - For each value of `alpha`:\n",
    " - Compute the polynomial features for the data.\n",
    " - Create a `Lasso` regularization model with the value of `alpha`\n",
    " - Perform k-fold cross validation with k=10 using `Lasso` as model.\n",
    " - Compute and print the $MSE$ of the train and validation data and store in separate lists.\n",
    " - Select the `alpha` for which the mean of the k-fold $MSE$ is the least.\n",
    " - Store the previously selected values as `best_alpha` & print it.\n",
    " \n",
    " \n",
    " #### Hints\n",
    " - Limit the maximum degree to 30.\n",
    " - Take at least three different values of alpha.\n",
    " - Use sklearn `cross_validate()` to perform cross validation.\n",
    " \n",
    " </div>"
   ]
  },
  {
   "cell_type": "code",
   "execution_count": 40,
   "metadata": {
    "deletable": false
   },
   "outputs": [],
   "source": [
    "# Train data\n",
    "# your code here\n"
   ]
  },
  {
   "cell_type": "code",
   "execution_count": 41,
   "metadata": {
    "deletable": false
   },
   "outputs": [],
   "source": [
    "# Bootstrap first & then find the best regularization coefficient\n",
    "# your code here\n"
   ]
  },
  {
   "cell_type": "markdown",
   "metadata": {
    "autograde": "6.2",
    "deletable": false,
    "editable": false
   },
   "source": [
    "<div class='exercise-r'>  \n",
    " \n",
    "**6.2** [10 pts] Find the most significant degrees.\n",
    " \n",
    " From the previous section, you will now have the `best_alpha` hyperparameter. Now, we will use this to find the most significant degrees over a given number of bootstraps. What we mean by the above is this:\n",
    " \n",
    " For each bootstrap of the data, you will get some degrees that are **significant** $(\\mid\\beta_i\\mid \\gt 0.1)$. You would like to see which degree coefficients are significant over several such iterations.\n",
    " \n",
    " As before, we use the `bacteria_train.csv` for cross validation.\n",
    " \n",
    " NOTE: You are free to experiment with the number of bootstraps.\n",
    " \n",
    " **Instructions**\n",
    " - Make a dictionary called `significant_degrees` to store count of degrees for each bootstrap\n",
    " - For each bootstrap:\n",
    " - Take a sample the dataframe with `frac=1`\n",
    " - Train a **Lasso** model with the `best_alpha` computed above.\n",
    " - Find the most significant polynomial coefficients using ($\\mid\\beta_i\\mid \\lt 0.1 $)\n",
    " - For each significant degree, update the count of that degree in `significant_degrees`\n",
    " - Plot the count of degrees for each bootstrap as a bar plot.\n",
    " \n",
    " \n",
    " #### Hints\n",
    " - Limit the maximum degree to 30.\n",
    " - Take at least three different values of alpha.\n",
    " - Use sklearn `cross_validate()` to perform cross validation.\n",
    " \n",
    " </div>"
   ]
  },
  {
   "cell_type": "code",
   "execution_count": 42,
   "metadata": {
    "deletable": false
   },
   "outputs": [],
   "source": [
    "# your code here\n"
   ]
  },
  {
   "cell_type": "code",
   "execution_count": 43,
   "metadata": {
    "deletable": false
   },
   "outputs": [],
   "source": [
    "# your code here\n"
   ]
  },
  {
   "cell_type": "markdown",
   "metadata": {
    "autograde": "6.3",
    "deletable": false,
    "editable": false
   },
   "source": [
    "<div class='exercise-r'>  \n",
    " \n",
    "**6.3** [5 pts] Compute and print the MSE on the test set\n",
    " \n",
    " Now, from the previous plot, you can see that only some degrees are consistently significant over several bootstraps. You will now retrain the *L1* regularized model on the entire **training** data and find the test $MSE$\n",
    " \n",
    " #### Instructions\n",
    " \n",
    " - Based on the plot from 6.2, choose the maximum degree of the polynomial you will fit for your final model.\n",
    " - Retrain the *regularized* ***LASSO*** model with your chosen degree on the entire test set and report the $MSE$ on the test set.\n",
    " - Find and print the degrees of the polynomial that have cofficients with absolute value greater than 0.1\n",
    " - Save the test $MSE$ to `best_mse_dict`.\n",
    " \n",
    " </div>"
   ]
  },
  {
   "cell_type": "code",
   "execution_count": 44,
   "metadata": {
    "deletable": false
   },
   "outputs": [],
   "source": [
    "# your code here\n"
   ]
  },
  {
   "cell_type": "code",
   "execution_count": 45,
   "metadata": {
    "deletable": false
   },
   "outputs": [],
   "source": [
    "# your code here\n"
   ]
  },
  {
   "cell_type": "code",
   "execution_count": 46,
   "metadata": {
    "deletable": false
   },
   "outputs": [],
   "source": [
    "# your code here\n"
   ]
  },
  {
   "cell_type": "markdown",
   "metadata": {
    "autograde": "6.4",
    "deletable": false,
    "editable": false
   },
   "source": [
    "<div class='exercise-r'>  \n",
    " \n",
    "**6.4** [5 pts] What are your observations?\n",
    " \n",
    " - Compare your `best_degree` from question 5 with your chosen degree in 6.3 above and comment on the difference.\n",
    " - Which degree coefficients in your best fit model from above are significant? If not all coefficients are significant, why?\n",
    " - Compare your test $MSE$ in this question with the result from question 5. Which one is smaller, and by how much?\n",
    " - Is your current model more reliable than the models in question 5 and prior? On what basis do you claim its robustness?\n",
    " \n",
    " \n",
    " </div>"
   ]
  },
  {
   "cell_type": "code",
   "execution_count": 47,
   "metadata": {
    "deletable": false
   },
   "outputs": [],
   "source": [
    "# your code here\n"
   ]
  },
  {
   "cell_type": "markdown",
   "metadata": {
    "deletable": false
   },
   "source": [
    "*Your answer here*"
   ]
  },
  {
   "cell_type": "markdown",
   "metadata": {
    "cell_id": "fe903f84-5847-4e97-95c5-4424e57a375c",
    "deletable": false,
    "editable": false,
    "tags": []
   },
   "source": [
    "<div class='exercise'><b> Question 7:   Analyze your best test MSEs for each sub section of the homework [10 points total]</b></div>\n",
    "\n",
    "**7.1** [4 pts] Convert the `best_mse_dict` dictionary used to store the best MSE values from each section of the homework into a pandas dataframe. \n",
    "\n",
    "- Take a look at how the $MSE$ values have varied throughout the homework and plot these $MSE$ values in a bar chart, including proper labels and title.\n",
    "\n",
    "**7.2** [6 pts] Which model do you think is best, and why? What are some of its drawbacks compared to the other methods you tested? "
   ]
  },
  {
   "cell_type": "markdown",
   "metadata": {
    "deletable": false,
    "editable": false
   },
   "source": [
    "### Your Answers"
   ]
  },
  {
   "cell_type": "markdown",
   "metadata": {
    "autograde": "7.1",
    "deletable": false,
    "editable": false
   },
   "source": [
    "<div class='exercise-r'>  \n",
    " \n",
    "**7.1** [4 pts] Convert the `best_mse_dict` dictionary used to store the best MSE values from each section of the homework into a pandas dataframe.\n",
    " \n",
    " - Take a look at how the $MSE$ values have varied throughout the homework and plot these $MSE$ values in a bar chart, including proper labels and title.\n",
    " \n",
    " </div>"
   ]
  },
  {
   "cell_type": "code",
   "execution_count": 48,
   "metadata": {
    "deletable": false
   },
   "outputs": [],
   "source": [
    "# your code here\n"
   ]
  },
  {
   "cell_type": "code",
   "execution_count": 49,
   "metadata": {
    "deletable": false
   },
   "outputs": [],
   "source": [
    "# your code here\n"
   ]
  },
  {
   "cell_type": "markdown",
   "metadata": {
    "autograde": "7.2",
    "deletable": false,
    "editable": false
   },
   "source": [
    "**7.2** [6 pts] Which model do you think is best, and why? What are some of its drawbacks compared to the other methods you tested?"
   ]
  },
  {
   "cell_type": "markdown",
   "metadata": {
    "deletable": false
   },
   "source": [
    "*Your answer here*"
   ]
  },
  {
   "cell_type": "markdown",
   "metadata": {
    "deletable": false,
    "editable": false
   },
   "source": [
    "#### THE END"
   ]
  }
 ],
 "metadata": {
  "colab": {
   "collapsed_sections": [],
   "name": "Homework2.ipynb",
   "provenance": []
  },
  "deepnote_execution_queue": [
   {
    "cellId": "7925de61-e041-437e-ba6b-b1c3e1b2fb0c",
    "msgId": "81bcbf6f-fa59-42e6-9480-bc996bae8f99",
    "sessionId": "e7116124-0a70-4245-961a-e0041ff25d29"
   },
   {
    "cellId": "32ac05dc-6db8-4c64-8028-4a6e4c16ec1c",
    "msgId": "17b61e3a-31e9-45e0-b1c8-cba828b9a48d",
    "sessionId": "e7116124-0a70-4245-961a-e0041ff25d29"
   },
   {
    "cellId": "9e4ea6c6-2cb0-4aa1-b5bf-67be3a47ac87",
    "msgId": "66b23ef4-2198-4543-a34e-3b998d83f1c7",
    "sessionId": "e7116124-0a70-4245-961a-e0041ff25d29"
   },
   {
    "cellId": "0cdef907-9d0f-4057-a70b-71022017e321",
    "msgId": "125b9c17-7ffa-4214-9ca2-27e9e34df7c7",
    "sessionId": "e7116124-0a70-4245-961a-e0041ff25d29"
   },
   {
    "cellId": "2eefd92c-1d9f-49fe-a7f7-d7f0f4f59e95",
    "msgId": "81a1b165-ee3a-4ab0-afff-99f4dfa74eef",
    "sessionId": "e7116124-0a70-4245-961a-e0041ff25d29"
   },
   {
    "cellId": "40b93f58-240f-49bc-ab9c-a919d74b8e61",
    "msgId": "4b00a64e-a71b-4cf9-a228-cbabdbee0414",
    "sessionId": "e7116124-0a70-4245-961a-e0041ff25d29"
   },
   {
    "cellId": "2f3d3efa-8220-44b2-afbf-9600c2fea073",
    "msgId": "5bdcc501-f577-4908-9e85-aa52b44f652f",
    "sessionId": "e7116124-0a70-4245-961a-e0041ff25d29"
   },
   {
    "cellId": "2f3d3efa-8220-44b2-afbf-9600c2fea073",
    "msgId": "96fa923e-991c-409f-954b-1a9d036a7f0a",
    "sessionId": "e7116124-0a70-4245-961a-e0041ff25d29"
   },
   {
    "cellId": "cc0c9423-6587-41fb-88c4-5e7db61d7791",
    "msgId": "c4775dd8-e4e3-4505-865a-d2b54022e97c",
    "sessionId": "e7116124-0a70-4245-961a-e0041ff25d29"
   },
   {
    "cellId": "4f9d6f96-a6b7-4951-a98a-f29e0351a113",
    "msgId": "2721b704-5efa-4783-a128-ea0b813e202f",
    "sessionId": "e7116124-0a70-4245-961a-e0041ff25d29"
   },
   {
    "cellId": "4f9d6f96-a6b7-4951-a98a-f29e0351a113",
    "msgId": "14cd3ada-ede8-4693-b8ce-b1254e5357cb",
    "sessionId": "e7116124-0a70-4245-961a-e0041ff25d29"
   },
   {
    "cellId": "1e847ea0-95b4-47fa-8c71-09636de2c913",
    "msgId": "a53842aa-e7d2-4787-a474-04717a13bf12",
    "sessionId": "e7116124-0a70-4245-961a-e0041ff25d29"
   },
   {
    "cellId": "4b9d11b1-bc81-4937-8924-eda535bbe287",
    "msgId": "f9fa1ff3-ed3e-4876-8bb3-239ee4ec0279",
    "sessionId": "e7116124-0a70-4245-961a-e0041ff25d29"
   },
   {
    "cellId": "8e836c0a-f87f-43f5-9448-838d0028b904",
    "msgId": "f7641d44-aaf7-4676-bbd4-439a47d4db1f",
    "sessionId": "e7116124-0a70-4245-961a-e0041ff25d29"
   },
   {
    "cellId": "c72943b7-5e58-4fe3-9225-fa0beeff3654",
    "msgId": "1878748e-321b-484f-bee1-344ec8caf68e",
    "sessionId": "e7116124-0a70-4245-961a-e0041ff25d29"
   },
   {
    "cellId": "c4bd7d98-380a-4853-8114-51d41f0cfd95",
    "msgId": "af49c97c-7c7c-4b0c-9543-5c38d238fffb",
    "sessionId": "e7116124-0a70-4245-961a-e0041ff25d29"
   },
   {
    "cellId": "c4bd7d98-380a-4853-8114-51d41f0cfd95",
    "msgId": "691b283d-e47a-4686-9e73-4f457365a32a",
    "sessionId": "e7116124-0a70-4245-961a-e0041ff25d29"
   }
  ],
  "deepnote_notebook_id": "80dec77d-caa5-42a3-a211-a1492a1ab3e6",
  "kernelspec": {
   "display_name": "Python 3",
   "language": "python",
   "name": "python3"
  },
  "language_info": {
   "codemirror_mode": {
    "name": "ipython",
    "version": 3
   },
   "file_extension": ".py",
   "mimetype": "text/x-python",
   "name": "python",
   "nbconvert_exporter": "python",
   "pygments_lexer": "ipython3",
   "version": "3.7.4"
  },
  "varInspector": {
   "cols": {
    "lenName": 16,
    "lenType": 16,
    "lenVar": 40
   },
   "kernels_config": {
    "python": {
     "delete_cmd_postfix": "",
     "delete_cmd_prefix": "del ",
     "library": "var_list.py",
     "varRefreshCmd": "print(var_dic_list())"
    },
    "r": {
     "delete_cmd_postfix": ") ",
     "delete_cmd_prefix": "rm(",
     "library": "var_list.r",
     "varRefreshCmd": "cat(var_dic_list()) "
    }
   },
   "types_to_exclude": [
    "module",
    "function",
    "builtin_function_or_method",
    "instance",
    "_Feature"
   ],
   "window_display": false
  }
 },
 "nbformat": 4,
 "nbformat_minor": 4
}
